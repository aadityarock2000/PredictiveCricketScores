{
  "nbformat": 4,
  "nbformat_minor": 0,
  "metadata": {
    "colab": {
      "name": "Copy of Final_PreProcess.ipynb",
      "provenance": [],
      "collapsed_sections": []
    },
    "kernelspec": {
      "display_name": "Python 3",
      "name": "python3"
    },
    "language_info": {
      "name": "python"
    }
  },
  "cells": [
    {
      "cell_type": "code",
      "metadata": {
        "id": "MIGIhNe_v1YC"
      },
      "source": [
        "from google.colab import drive\n",
        "drive.mount('/content/drive')"
      ],
      "execution_count": null,
      "outputs": []
    },
    {
      "cell_type": "code",
      "metadata": {
        "id": "wyIDw5w1xKia"
      },
      "source": [
        "import pandas as pd\n",
        "df = pd.read_csv('/content/drive/MyDrive/FDA project/all_matches_2021.csv')"
      ],
      "execution_count": null,
      "outputs": []
    },
    {
      "cell_type": "code",
      "metadata": {
        "id": "vvelOQnmytyP"
      },
      "source": [
        "#calculating and adding all possible runs per ball to new df new column - 'runs'\n",
        "runs=df['runs_off_bat']+df['extras']\n",
        "#+df['wides']+df['noballs']+df['byes']+df['legbyes']+df['penalty']\n",
        "df['runs']=runs"
      ],
      "execution_count": null,
      "outputs": []
    },
    {
      "cell_type": "code",
      "metadata": {
        "id": "SBi4QfG3z7aQ"
      },
      "source": [
        "#calculating and adding runs per innings\n",
        "total_run_fir_inn=0\n",
        "total_run_sec_inn=0\n",
        "df['innings_run']=\"\"\n",
        "\n",
        "for index, row in df.iterrows():\n",
        "  #print(index)\n",
        "  if index>0:\n",
        "    #print(df['runs'][index])\n",
        "    if df['match_id'][index]==df['match_id'][index-1]:\n",
        "      if df['innings'][index]==1:\n",
        "        total_run_fir_inn+=df['runs'][index]\n",
        "  \n",
        "  if df['innings'][index]==1 and df['ball'][index+1]==0.1:\n",
        "    df['innings_run'][index]=total_run_fir_inn\n",
        "    total_run_fir_inn=0\n",
        "  \n",
        "  if df['innings'][index]==2:\n",
        "    total_run_sec_inn+=df['runs'][index]\n",
        "\n",
        "  if index<200663:  \n",
        "    if df['innings'][index]==2 and df['ball'][index+1]==0.1:\n",
        "      df['innings_run'][index]=total_run_sec_inn\n",
        "      total_run_sec_inn=0\n",
        "\n",
        "  else:\n",
        "    total_run_fir_inn=0\n",
        "    total_run_sec_inn=0"
      ],
      "execution_count": null,
      "outputs": []
    },
    {
      "cell_type": "code",
      "metadata": {
        "id": "0ddpKbQx0Q8n"
      },
      "source": [
        "inner_it_1 = 0\n",
        "df['run_sum']=0\n",
        "for index, row in df.iterrows():\n",
        "  if(index<=200662 and index>=0):\n",
        "    if(df['ball'][index+1]==0.1):\n",
        "      inner_it_2 = index\n",
        "      for i in range(inner_it_1,inner_it_2+1):\n",
        "        df['run_sum'][i]=df['innings_run'][inner_it_2]\n",
        "      inner_it_1 = inner_it_2+1\n",
        "  elif(index==200663):\n",
        "    inner_it_2 = 200663\n",
        "    for i in range(inner_it_1,inner_it_2+1):\n",
        "      df['run_sum'][i]=df['innings_run'][inner_it_2]"
      ],
      "execution_count": null,
      "outputs": []
    },
    {
      "cell_type": "code",
      "metadata": {
        "id": "M6tX-hnLYOpT"
      },
      "source": [
        "#calculation of the runs\n",
        "runs_tot=[]\n",
        "runs_a=0\n",
        "for index, row in df.iterrows():\n",
        "  if index<=200664 and index>=0:\n",
        "    if df['ball'][index]==0.1:\n",
        "      runs_a=0\n",
        "    \n",
        "    runs_a+=df['runs'][index]\n",
        "    runs_tot.append(runs_a)\n",
        "df['runs_tot']=runs_tot"
      ],
      "execution_count": null,
      "outputs": []
    },
    {
      "cell_type": "code",
      "metadata": {
        "id": "BtrgTEXiT8_B"
      },
      "source": [
        "df.shape"
      ],
      "execution_count": null,
      "outputs": []
    },
    {
      "cell_type": "code",
      "metadata": {
        "id": "C0-KNJ7Lo7wU"
      },
      "source": [
        "#calculating and adding all possible runs per ball to new df new column - 'runs'\n",
        "runs=df['runs_off_bat']+df['extras']\n",
        "#+df['wides']+df['noballs']+df['byes']+df['legbyes']+df['penalty']\n",
        "df['runs']=runs\n",
        "df.head()"
      ],
      "execution_count": null,
      "outputs": []
    },
    {
      "cell_type": "code",
      "metadata": {
        "id": "f__K7eaVr8Np"
      },
      "source": [
        "#df=df[df['innings']==1]"
      ],
      "execution_count": null,
      "outputs": []
    },
    {
      "cell_type": "code",
      "metadata": {
        "id": "pUE1fCo61j6A"
      },
      "source": [
        "person_a=df['striker'][0]    \n",
        "person_b=df['non_striker'][0]\n",
        "runs_a=0\n",
        "runs_b=0\n",
        "list_a=[]\n",
        "list_b=[]\n",
        "\n",
        "for index, row in df.iterrows():\n",
        "  #when there is no change in wicket, initialize the 2 players as a and b\n",
        "  #exept when it is the start of the over, then initialize the players as a and b\n",
        "  print(index)\n",
        "  #initializing the person_a and person_b\n",
        "  if index<=200663 and index>=0:\n",
        "\n",
        "    if df['ball'][index]==0.1:\n",
        "      person_a=df['striker'][index]\n",
        "      person_b=df['non_striker'][index]\n",
        "      runs_a=0\n",
        "      runs_b=0\n",
        "      #print(\"visited first if initialize\")\n",
        "\n",
        "    elif not pd.isnull(df.loc[index]['player_dismissed']):\n",
        "      #change the person who lost the wicket\n",
        "      #print(\"visited second if initialize\")\n",
        "      if person_a == df.loc[index]['player_dismissed']:\n",
        "        runs_a=0\n",
        "        #update to the new person        \n",
        "        x=[person_a,person_b]\n",
        "        new_player=\" \"\n",
        "        if df['striker'][index+1] in x:\n",
        "          new_player=df['non_striker'][index+1]\n",
        "        else:\n",
        "          new_player=df['striker'][index+1]        \n",
        "        person_a=new_player\n",
        "        \n",
        "      else:\n",
        "        runs_b=0\n",
        "        #update to the new person        \n",
        "        x=[person_a,person_b]\n",
        "        new_player=\" \"\n",
        "        if df['striker'][index+1] in x:\n",
        "          new_player=df['non_striker'][index+1]\n",
        "        else:\n",
        "          new_player=df['striker'][index+1]        \n",
        "        person_b=new_player\n",
        "\n",
        "    #adding the runs to the list\n",
        "    if df['striker'][index]==person_a:\n",
        "      # print(runs_a)\n",
        "      runs_a+=df['runs_off_bat'][index]\n",
        "      #print(df['runs_off_bat'][index])\n",
        "      #print(\"runs scored by a is {} at index {}\".format(runs_a,index))\n",
        "      list_a.append(runs_a)\n",
        "      list_b.append(runs_b)\n",
        "    else:\n",
        "      #print(runs_b)\n",
        "      runs_b+=df['runs_off_bat'][index]\n",
        "      #print(df['runs_off_bat'][index])\n",
        "      #print(\"runs scored by b is {} at index {}\".format(runs_b,index))\n",
        "      list_a.append(runs_a)\n",
        "      list_b.append(runs_b)"
      ],
      "execution_count": null,
      "outputs": []
    },
    {
      "cell_type": "code",
      "metadata": {
        "id": "FPcuFi8Z1YDJ"
      },
      "source": [
        "df.head()"
      ],
      "execution_count": null,
      "outputs": []
    },
    {
      "cell_type": "code",
      "metadata": {
        "id": "a6T5zg2145F9"
      },
      "source": [
        "required_striker=max(list_a,list_b)\n",
        "required_non_striker=min(list_a,list_b)"
      ],
      "execution_count": null,
      "outputs": []
    },
    {
      "cell_type": "code",
      "metadata": {
        "id": "CgjzLlAf46Lt"
      },
      "source": [
        "df['required_striker']=required_striker\n",
        "df['required_non_striker']=required_non_striker\n"
      ],
      "execution_count": null,
      "outputs": []
    },
    {
      "cell_type": "code",
      "metadata": {
        "id": "bE3hGMKG1hPF"
      },
      "source": [
        "df1 = df[['striker','non_striker','Wickets','ball','run_sum','innings','runs_off_bat','player_dismissed','required_striker','required_non_striker','runs_tot','runs']]"
      ],
      "execution_count": null,
      "outputs": []
    },
    {
      "cell_type": "code",
      "metadata": {
        "id": "MNsXlACj50W6",
        "colab": {
          "base_uri": "https://localhost:8080/",
          "height": 593
        },
        "outputId": "eb63b660-9f8c-405d-d879-f1ca1c3cc919"
      },
      "source": [
        "df1.tail(100)"
      ],
      "execution_count": null,
      "outputs": [
        {
          "output_type": "execute_result",
          "data": {
            "text/html": [
              "<div>\n",
              "<style scoped>\n",
              "    .dataframe tbody tr th:only-of-type {\n",
              "        vertical-align: middle;\n",
              "    }\n",
              "\n",
              "    .dataframe tbody tr th {\n",
              "        vertical-align: top;\n",
              "    }\n",
              "\n",
              "    .dataframe thead th {\n",
              "        text-align: right;\n",
              "    }\n",
              "</style>\n",
              "<table border=\"1\" class=\"dataframe\">\n",
              "  <thead>\n",
              "    <tr style=\"text-align: right;\">\n",
              "      <th></th>\n",
              "      <th>striker</th>\n",
              "      <th>non_striker</th>\n",
              "      <th>Wickets</th>\n",
              "      <th>ball</th>\n",
              "      <th>run_sum</th>\n",
              "      <th>innings</th>\n",
              "      <th>runs_off_bat</th>\n",
              "      <th>player_dismissed</th>\n",
              "      <th>required_striker</th>\n",
              "      <th>required_non_striker</th>\n",
              "      <th>runs_tot</th>\n",
              "      <th>runs</th>\n",
              "      <th>required_striker_1</th>\n",
              "      <th>required_non_striker_1</th>\n",
              "    </tr>\n",
              "  </thead>\n",
              "  <tbody>\n",
              "    <tr>\n",
              "      <th>200564</th>\n",
              "      <td>PP Shaw</td>\n",
              "      <td>S Dhawan</td>\n",
              "      <td>0</td>\n",
              "      <td>1.3</td>\n",
              "      <td></td>\n",
              "      <td>2</td>\n",
              "      <td>6</td>\n",
              "      <td>NaN</td>\n",
              "      <td>7</td>\n",
              "      <td>8</td>\n",
              "      <td>16</td>\n",
              "      <td>6</td>\n",
              "      <td>8</td>\n",
              "      <td>7</td>\n",
              "    </tr>\n",
              "    <tr>\n",
              "      <th>200565</th>\n",
              "      <td>PP Shaw</td>\n",
              "      <td>S Dhawan</td>\n",
              "      <td>0</td>\n",
              "      <td>1.4</td>\n",
              "      <td></td>\n",
              "      <td>2</td>\n",
              "      <td>4</td>\n",
              "      <td>NaN</td>\n",
              "      <td>7</td>\n",
              "      <td>12</td>\n",
              "      <td>20</td>\n",
              "      <td>4</td>\n",
              "      <td>12</td>\n",
              "      <td>7</td>\n",
              "    </tr>\n",
              "    <tr>\n",
              "      <th>200566</th>\n",
              "      <td>PP Shaw</td>\n",
              "      <td>S Dhawan</td>\n",
              "      <td>0</td>\n",
              "      <td>1.5</td>\n",
              "      <td></td>\n",
              "      <td>2</td>\n",
              "      <td>4</td>\n",
              "      <td>NaN</td>\n",
              "      <td>7</td>\n",
              "      <td>16</td>\n",
              "      <td>24</td>\n",
              "      <td>4</td>\n",
              "      <td>16</td>\n",
              "      <td>7</td>\n",
              "    </tr>\n",
              "    <tr>\n",
              "      <th>200567</th>\n",
              "      <td>PP Shaw</td>\n",
              "      <td>S Dhawan</td>\n",
              "      <td>0</td>\n",
              "      <td>1.6</td>\n",
              "      <td></td>\n",
              "      <td>2</td>\n",
              "      <td>0</td>\n",
              "      <td>NaN</td>\n",
              "      <td>7</td>\n",
              "      <td>16</td>\n",
              "      <td>24</td>\n",
              "      <td>0</td>\n",
              "      <td>16</td>\n",
              "      <td>7</td>\n",
              "    </tr>\n",
              "    <tr>\n",
              "      <th>200568</th>\n",
              "      <td>S Dhawan</td>\n",
              "      <td>PP Shaw</td>\n",
              "      <td>0</td>\n",
              "      <td>2.1</td>\n",
              "      <td></td>\n",
              "      <td>2</td>\n",
              "      <td>0</td>\n",
              "      <td>NaN</td>\n",
              "      <td>7</td>\n",
              "      <td>16</td>\n",
              "      <td>24</td>\n",
              "      <td>0</td>\n",
              "      <td>16</td>\n",
              "      <td>7</td>\n",
              "    </tr>\n",
              "    <tr>\n",
              "      <th>...</th>\n",
              "      <td>...</td>\n",
              "      <td>...</td>\n",
              "      <td>...</td>\n",
              "      <td>...</td>\n",
              "      <td>...</td>\n",
              "      <td>...</td>\n",
              "      <td>...</td>\n",
              "      <td>...</td>\n",
              "      <td>...</td>\n",
              "      <td>...</td>\n",
              "      <td>...</td>\n",
              "      <td>...</td>\n",
              "      <td>...</td>\n",
              "      <td>...</td>\n",
              "    </tr>\n",
              "    <tr>\n",
              "      <th>200659</th>\n",
              "      <td>SO Hetmyer</td>\n",
              "      <td>S Dhawan</td>\n",
              "      <td>3</td>\n",
              "      <td>17.2</td>\n",
              "      <td></td>\n",
              "      <td>2</td>\n",
              "      <td>6</td>\n",
              "      <td>NaN</td>\n",
              "      <td>69</td>\n",
              "      <td>6</td>\n",
              "      <td>155</td>\n",
              "      <td>6</td>\n",
              "      <td>69</td>\n",
              "      <td>6</td>\n",
              "    </tr>\n",
              "    <tr>\n",
              "      <th>200660</th>\n",
              "      <td>SO Hetmyer</td>\n",
              "      <td>S Dhawan</td>\n",
              "      <td>3</td>\n",
              "      <td>17.3</td>\n",
              "      <td></td>\n",
              "      <td>2</td>\n",
              "      <td>6</td>\n",
              "      <td>NaN</td>\n",
              "      <td>69</td>\n",
              "      <td>12</td>\n",
              "      <td>161</td>\n",
              "      <td>6</td>\n",
              "      <td>69</td>\n",
              "      <td>12</td>\n",
              "    </tr>\n",
              "    <tr>\n",
              "      <th>200661</th>\n",
              "      <td>SO Hetmyer</td>\n",
              "      <td>S Dhawan</td>\n",
              "      <td>3</td>\n",
              "      <td>17.4</td>\n",
              "      <td></td>\n",
              "      <td>2</td>\n",
              "      <td>4</td>\n",
              "      <td>NaN</td>\n",
              "      <td>69</td>\n",
              "      <td>16</td>\n",
              "      <td>165</td>\n",
              "      <td>4</td>\n",
              "      <td>69</td>\n",
              "      <td>16</td>\n",
              "    </tr>\n",
              "    <tr>\n",
              "      <th>200662</th>\n",
              "      <td>SO Hetmyer</td>\n",
              "      <td>S Dhawan</td>\n",
              "      <td>3</td>\n",
              "      <td>17.5</td>\n",
              "      <td></td>\n",
              "      <td>2</td>\n",
              "      <td>0</td>\n",
              "      <td>NaN</td>\n",
              "      <td>69</td>\n",
              "      <td>16</td>\n",
              "      <td>166</td>\n",
              "      <td>1</td>\n",
              "      <td>69</td>\n",
              "      <td>16</td>\n",
              "    </tr>\n",
              "    <tr>\n",
              "      <th>200663</th>\n",
              "      <td>SO Hetmyer</td>\n",
              "      <td>S Dhawan</td>\n",
              "      <td>3</td>\n",
              "      <td>17.6</td>\n",
              "      <td></td>\n",
              "      <td>2</td>\n",
              "      <td>0</td>\n",
              "      <td>NaN</td>\n",
              "      <td>69</td>\n",
              "      <td>16</td>\n",
              "      <td>167</td>\n",
              "      <td>1</td>\n",
              "      <td>69</td>\n",
              "      <td>16</td>\n",
              "    </tr>\n",
              "  </tbody>\n",
              "</table>\n",
              "<p>100 rows × 14 columns</p>\n",
              "</div>"
            ],
            "text/plain": [
              "           striker non_striker  ...  required_striker_1  required_non_striker_1\n",
              "200564     PP Shaw    S Dhawan  ...                   8                       7\n",
              "200565     PP Shaw    S Dhawan  ...                  12                       7\n",
              "200566     PP Shaw    S Dhawan  ...                  16                       7\n",
              "200567     PP Shaw    S Dhawan  ...                  16                       7\n",
              "200568    S Dhawan     PP Shaw  ...                  16                       7\n",
              "...            ...         ...  ...                 ...                     ...\n",
              "200659  SO Hetmyer    S Dhawan  ...                  69                       6\n",
              "200660  SO Hetmyer    S Dhawan  ...                  69                      12\n",
              "200661  SO Hetmyer    S Dhawan  ...                  69                      16\n",
              "200662  SO Hetmyer    S Dhawan  ...                  69                      16\n",
              "200663  SO Hetmyer    S Dhawan  ...                  69                      16\n",
              "\n",
              "[100 rows x 14 columns]"
            ]
          },
          "metadata": {
            "tags": []
          },
          "execution_count": 36
        }
      ]
    },
    {
      "cell_type": "code",
      "metadata": {
        "id": "MeZqMG7r_K3Z"
      },
      "source": [
        "df1['required_striker_1'] = \"\"\n",
        "df1['required_non_striker_1'] = \"\"\n",
        "for index, row in df.iterrows():\n",
        "  df1['required_striker_1'][index] = max(df1['required_striker'][index],df1['required_non_striker'][index])\n",
        "  df1['required_non_striker_1'][index] = min(df1['required_striker'][index],df1['required_non_striker'][index])\n"
      ],
      "execution_count": null,
      "outputs": []
    },
    {
      "cell_type": "code",
      "metadata": {
        "id": "feyd65F-GIit"
      },
      "source": [
        "df1.to_csv(\"final_PreProcess10.csv\")"
      ],
      "execution_count": null,
      "outputs": []
    }
  ]
}