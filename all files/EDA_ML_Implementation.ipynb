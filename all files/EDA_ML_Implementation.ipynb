{
  "nbformat": 4,
  "nbformat_minor": 0,
  "metadata": {
    "colab": {
      "name": "EDA_ML_Implementation.ipynb",
      "provenance": [],
      "collapsed_sections": []
    },
    "kernelspec": {
      "display_name": "Python 3",
      "name": "python3"
    },
    "language_info": {
      "name": "python"
    }
  },
  "cells": [
    {
      "cell_type": "markdown",
      "metadata": {
        "id": "pWxfvgnb9_qB"
      },
      "source": [
        "# **Loading the drive to import the dataset**"
      ]
    },
    {
      "cell_type": "code",
      "metadata": {
        "colab": {
          "base_uri": "https://localhost:8080/"
        },
        "id": "CwMsuu0wFTHi",
        "outputId": "b5efe7af-2280-4865-db4f-9e748f2be4ae"
      },
      "source": [
        "\n",
        "from google.colab import drive\n",
        "drive.mount('/content/drive')"
      ],
      "execution_count": null,
      "outputs": [
        {
          "output_type": "stream",
          "text": [
            "Mounted at /content/drive\n"
          ],
          "name": "stdout"
        }
      ]
    },
    {
      "cell_type": "markdown",
      "metadata": {
        "id": "0tdeyjYL-Hak"
      },
      "source": [
        "# **Defining Custom Accuracy**"
      ]
    },
    {
      "cell_type": "code",
      "metadata": {
        "id": "opLg5TYH09cY"
      },
      "source": [
        "def custom_accuracy(y_test,y_pred,thresold):\n",
        "    right = 0\n",
        "    l = len(y_pred)\n",
        "    for i in range(0,l):\n",
        "        if(abs(round(y_pred[i])-y_test[i]) <= thresold):\n",
        "            right += 1\n",
        "    return ((right/l)*100)"
      ],
      "execution_count": null,
      "outputs": []
    },
    {
      "cell_type": "markdown",
      "metadata": {
        "id": "LUc0qHfJ-c6B"
      },
      "source": [
        "# **Importing the preprocessed dataset and selecting required columns**"
      ]
    },
    {
      "cell_type": "code",
      "metadata": {
        "id": "2kmtTH6v1Kel"
      },
      "source": [
        "import pandas as pd\n",
        "# Importing the dataset\n",
        "dataset = pd.read_csv('/content/drive/MyDrive/FDA project/final_PreProcess10.csv')\n",
        "\n",
        "dataset=dataset[dataset['innings']==1]\n",
        "#filter the overs\n",
        "dataset=dataset[dataset['ball']>9.6]\n",
        "\n",
        "\n",
        "# Selection of required Columns\n",
        "X = dataset.iloc[:,[11,3,4,13,14]].values\n",
        "y = dataset.iloc[:, 5].values"
      ],
      "execution_count": null,
      "outputs": []
    },
    {
      "cell_type": "markdown",
      "metadata": {
        "id": "720D7BB8_F1r"
      },
      "source": [
        "# **Splitting the dataset into the Training set and Test set and Feature Scaling**"
      ]
    },
    {
      "cell_type": "code",
      "metadata": {
        "id": "N5TdpGBP7rNu"
      },
      "source": [
        "# Splitting the dataset into the Training set and Test set\n",
        "from sklearn.model_selection import train_test_split\n",
        "X_train, X_test, y_train, y_test = train_test_split(X, y, test_size = 0.25, random_state = 0)\n",
        "\n",
        "# Feature Scaling\n",
        "from sklearn.preprocessing import StandardScaler\n",
        "sc = StandardScaler()\n",
        "X_train = sc.fit_transform(X_train)\n",
        "X_test = sc.transform(X_test)"
      ],
      "execution_count": null,
      "outputs": []
    },
    {
      "cell_type": "markdown",
      "metadata": {
        "id": "iSpi_gOw_T_T"
      },
      "source": [
        "# **Random K-Fold Cross validation for Ridge regression model on the Cricket dataset**"
      ]
    },
    {
      "cell_type": "code",
      "metadata": {
        "colab": {
          "base_uri": "https://localhost:8080/"
        },
        "id": "0159g-BervZG",
        "outputId": "f3b2139b-ad76-4367-e927-0b1e3dd69b7c"
      },
      "source": [
        "# random search Ridge regression model on the Cricket dataset\n",
        "from scipy.stats import loguniform\n",
        "from scipy.stats import uniform\n",
        "from pandas import read_csv\n",
        "from sklearn.linear_model import Ridge\n",
        "from sklearn.model_selection import RepeatedKFold\n",
        "from sklearn.model_selection import RandomizedSearchCV\n",
        "\n",
        "model = Ridge()\n",
        "\n",
        "# define evaluation\n",
        "cv = RepeatedKFold(n_splits=10, n_repeats=3, random_state=1)\n",
        "\n",
        "\n",
        "# define search space\n",
        "space = dict()\n",
        "space['solver'] = ['svd', 'cholesky', 'lsqr', 'sag']\n",
        "# space['alpha'] = loguniform(1e-5, 100)\n",
        "space['alpha'] = uniform(1e-5, 100)\n",
        "space['fit_intercept'] = [True, False]\n",
        "space['normalize'] = [True, False]\n",
        "\n",
        "\n",
        "# define search\n",
        "search = RandomizedSearchCV(model, space, n_iter=500, scoring='neg_mean_absolute_error', n_jobs=-1, cv=cv, random_state=1)\n",
        "\n",
        "\n",
        "# execute search\n",
        "result = search.fit(X_train, y_train)\n",
        "\n",
        "\n",
        "# summarize result\n",
        "print('Best Score: %s' % result.best_score_)\n",
        "print('Best Hyperparameters: %s' % result.best_params_)\n",
        "\n"
      ],
      "execution_count": null,
      "outputs": [
        {
          "output_type": "stream",
          "text": [
            "Best Score: -10.865547145297127\n",
            "Best Hyperparameters: {'alpha': 1.8576302177409518, 'fit_intercept': True, 'normalize': False, 'solver': 'sag'}\n"
          ],
          "name": "stdout"
        }
      ]
    },
    {
      "cell_type": "markdown",
      "metadata": {
        "id": "bdud57Xk_eBB"
      },
      "source": [
        "# **Fitting the Model with updated parameters**"
      ]
    },
    {
      "cell_type": "code",
      "metadata": {
        "colab": {
          "base_uri": "https://localhost:8080/"
        },
        "id": "GsssODRXVWFG",
        "outputId": "3b728d47-c587-4caf-cbc0-d02a44ba4a54"
      },
      "source": [
        "# Fitting the Model\n",
        "y_pred = search.predict(X_test)\n",
        "score = search.score(X_test,y_test)*100\n",
        "print(\"Custom accuracy:\" , custom_accuracy(y_test,y_pred,10))"
      ],
      "execution_count": null,
      "outputs": [
        {
          "output_type": "stream",
          "text": [
            "Custom accuracy: 60.46872574887475\n"
          ],
          "name": "stdout"
        }
      ]
    },
    {
      "cell_type": "markdown",
      "metadata": {
        "id": "Ye2N0LgN_c0R"
      },
      "source": [
        "# **Random K-Fold Cross validation for Linear regression model on the Cricket dataset**"
      ]
    },
    {
      "cell_type": "code",
      "metadata": {
        "colab": {
          "base_uri": "https://localhost:8080/"
        },
        "id": "SJLLwgMwwvqt",
        "outputId": "0ae41430-fab9-4586-a78d-8216cfa56066"
      },
      "source": [
        "from scipy.stats import loguniform\n",
        "from pandas import read_csv\n",
        "from sklearn.linear_model import LinearRegression\n",
        "from sklearn.model_selection import RepeatedKFold\n",
        "from sklearn.model_selection import RandomizedSearchCV\n",
        "\n",
        "model = LinearRegression()\n",
        "\n",
        "# define evaluation\n",
        "cv = RepeatedKFold(n_splits=10, n_repeats=3, random_state=1)\n",
        "\n",
        "\n",
        "# define search space\n",
        "space = dict()\n",
        "space['fit_intercept'] = [True, False]\n",
        "space['normalize'] = [True, False]\n",
        "\n",
        "\n",
        "# define search\n",
        "search = RandomizedSearchCV(model, space, n_iter=500, scoring='neg_mean_absolute_error', n_jobs=-1, cv=cv, random_state=1)\n",
        "\n",
        "\n",
        "# execute search\n",
        "result = search.fit(X_train, y_train)\n",
        "\n",
        "\n",
        "# summarize result\n",
        "print('Best Score: %s' % result.best_score_)\n",
        "print('Best Hyperparameters: %s' % result.best_params_)"
      ],
      "execution_count": null,
      "outputs": [
        {
          "output_type": "stream",
          "text": [
            "/usr/local/lib/python3.7/dist-packages/sklearn/model_selection/_search.py:281: UserWarning: The total space of parameters 4 is smaller than n_iter=500. Running 4 iterations. For exhaustive searches, use GridSearchCV.\n",
            "  % (grid_size, self.n_iter, grid_size), UserWarning)\n"
          ],
          "name": "stderr"
        },
        {
          "output_type": "stream",
          "text": [
            "Best Score: -10.865744742058435\n",
            "Best Hyperparameters: {'normalize': False, 'fit_intercept': True}\n"
          ],
          "name": "stdout"
        }
      ]
    },
    {
      "cell_type": "code",
      "metadata": {
        "colab": {
          "base_uri": "https://localhost:8080/"
        },
        "id": "u3ppA32_DWA8",
        "outputId": "1642a893-f31b-4a56-a435-0e4d4c280d74"
      },
      "source": [
        "# Fitting the Model\n",
        "y_pred = search.predict(X_test)\n",
        "score = search.score(X_test,y_test)*100\n",
        "print(\"Custom accuracy:\" , custom_accuracy(y_test,y_pred,10))"
      ],
      "execution_count": null,
      "outputs": [
        {
          "output_type": "stream",
          "text": [
            "Custom accuracy: 60.44544466863262\n"
          ],
          "name": "stdout"
        }
      ]
    },
    {
      "cell_type": "markdown",
      "metadata": {
        "id": "b7NUePE5ANdw"
      },
      "source": [
        "# **Random K-Fold Cross validation for Lasso regression model on the Cricket dataset**"
      ]
    },
    {
      "cell_type": "code",
      "metadata": {
        "colab": {
          "base_uri": "https://localhost:8080/"
        },
        "id": "WdEpHLKlQBIl",
        "outputId": "7a73afcb-6957-4bfa-92ee-f05b6df11b56"
      },
      "source": [
        "from scipy.stats import loguniform\n",
        "from pandas import read_csv\n",
        "from sklearn.linear_model import Lasso\n",
        "from sklearn.model_selection import RepeatedKFold\n",
        "from sklearn.model_selection import RandomizedSearchCV\n",
        "\n",
        "model = Lasso()\n",
        "\n",
        "# define evaluation\n",
        "cv = RepeatedKFold(n_splits=10, n_repeats=3, random_state=1)\n",
        "\n",
        "\n",
        "# define search space\n",
        "space = dict()\n",
        "space['tol'] = loguniform(1e-5, 100)\n",
        "space['fit_intercept'] = [True, False]\n",
        "space['normalize'] = [True, False]\n",
        "space['selection'] = ['cyclic','random']\n",
        "\n",
        "\n",
        "# define search\n",
        "search = RandomizedSearchCV(model, space, n_iter=500, scoring='neg_mean_absolute_error', n_jobs=-1, cv=cv, random_state=1)\n",
        "\n",
        "\n",
        "# execute search\n",
        "result = search.fit(X_train, y_train)\n",
        "\n",
        "\n",
        "# summarize result\n",
        "print('Best Score: %s' % result.best_score_)\n",
        "print('Best Hyperparameters: %s' % result.best_params_)"
      ],
      "execution_count": null,
      "outputs": [
        {
          "output_type": "stream",
          "text": [
            "Best Score: -11.166146069919716\n",
            "Best Hyperparameters: {'fit_intercept': True, 'normalize': False, 'selection': 'cyclic', 'tol': 1.012396647506536e-05}\n"
          ],
          "name": "stdout"
        }
      ]
    },
    {
      "cell_type": "code",
      "metadata": {
        "colab": {
          "base_uri": "https://localhost:8080/"
        },
        "id": "I_GFMt77wxHi",
        "outputId": "800448cf-5902-400b-87cb-ce65f83a1a24"
      },
      "source": [
        "# Fitting the Model\n",
        "y_pred = search.predict(X_test)\n",
        "score = search.score(X_test,y_test)*100\n",
        "print(\"Custom accuracy:\" , custom_accuracy(y_test,y_pred,10))"
      ],
      "execution_count": null,
      "outputs": [
        {
          "output_type": "stream",
          "text": [
            "Custom accuracy: 57.993170883128975\n"
          ],
          "name": "stdout"
        }
      ]
    },
    {
      "cell_type": "code",
      "metadata": {
        "colab": {
          "background_save": true,
          "base_uri": "https://localhost:8080/"
        },
        "id": "O9Jt6nFk5y1G",
        "outputId": "0c433bb4-910a-4fba-82e9-67a94d1799ca"
      },
      "source": [
        "from scipy.stats import loguniform\n",
        "from pandas import read_csv\n",
        "from sklearn.ensemble import RandomForestRegressor\n",
        "from sklearn.model_selection import RepeatedKFold\n",
        "from sklearn.model_selection import GridSearchCV\n",
        "\n",
        "model = RandomForestRegressor()\n",
        "\n",
        "# define evaluation\n",
        "cv = RepeatedKFold(n_splits=10, n_repeats=3, random_state=1)\n",
        "\n",
        "\n",
        "# define search space / Grid Space \n",
        "\n",
        "space = dict()\n",
        "space['criterion'] = ['mae','mse']\n",
        "space['warm_start'] = [True, False]\n",
        "space['ccp_alpha'] = [1e-5,1e-4,1e-3,1e-2,1e-1,1,10,100]\n",
        "\n",
        "# define search\n",
        "search = GridSearchCV(model, space, refit = True, verbose = 3,n_jobs=-1)\n",
        "\n",
        "\n",
        "# execute search\n",
        "result = search.fit(X_train, y_train)\n",
        "\n",
        "\n",
        "# summarize result\n",
        "print('Best Score: %s' % result.best_score_)\n",
        "print('Best Hyperparameters: %s' % result.best_params_)"
      ],
      "execution_count": null,
      "outputs": [
        {
          "output_type": "stream",
          "text": [
            "Fitting 5 folds for each of 32 candidates, totalling 160 fits\n"
          ],
          "name": "stdout"
        },
        {
          "output_type": "stream",
          "text": [
            "[Parallel(n_jobs=-1)]: Using backend LokyBackend with 2 concurrent workers.\n"
          ],
          "name": "stderr"
        },
        {
          "output_type": "error",
          "ename": "KeyboardInterrupt",
          "evalue": "ignored",
          "traceback": [
            "\u001b[0;31m---------------------------------------------------------------------------\u001b[0m",
            "\u001b[0;31mKeyboardInterrupt\u001b[0m                         Traceback (most recent call last)",
            "\u001b[0;32m<ipython-input-5-3085021b4a98>\u001b[0m in \u001b[0;36m<module>\u001b[0;34m()\u001b[0m\n\u001b[1;32m     23\u001b[0m \u001b[0;34m\u001b[0m\u001b[0m\n\u001b[1;32m     24\u001b[0m \u001b[0;31m# execute search\u001b[0m\u001b[0;34m\u001b[0m\u001b[0;34m\u001b[0m\u001b[0;34m\u001b[0m\u001b[0m\n\u001b[0;32m---> 25\u001b[0;31m \u001b[0mresult\u001b[0m \u001b[0;34m=\u001b[0m \u001b[0msearch\u001b[0m\u001b[0;34m.\u001b[0m\u001b[0mfit\u001b[0m\u001b[0;34m(\u001b[0m\u001b[0mX_train\u001b[0m\u001b[0;34m,\u001b[0m \u001b[0my_train\u001b[0m\u001b[0;34m)\u001b[0m\u001b[0;34m\u001b[0m\u001b[0;34m\u001b[0m\u001b[0m\n\u001b[0m\u001b[1;32m     26\u001b[0m \u001b[0;34m\u001b[0m\u001b[0m\n\u001b[1;32m     27\u001b[0m \u001b[0;34m\u001b[0m\u001b[0m\n",
            "\u001b[0;32m/usr/local/lib/python3.7/dist-packages/sklearn/model_selection/_search.py\u001b[0m in \u001b[0;36mfit\u001b[0;34m(self, X, y, groups, **fit_params)\u001b[0m\n\u001b[1;32m    708\u001b[0m                 \u001b[0;32mreturn\u001b[0m \u001b[0mresults\u001b[0m\u001b[0;34m\u001b[0m\u001b[0;34m\u001b[0m\u001b[0m\n\u001b[1;32m    709\u001b[0m \u001b[0;34m\u001b[0m\u001b[0m\n\u001b[0;32m--> 710\u001b[0;31m             \u001b[0mself\u001b[0m\u001b[0;34m.\u001b[0m\u001b[0m_run_search\u001b[0m\u001b[0;34m(\u001b[0m\u001b[0mevaluate_candidates\u001b[0m\u001b[0;34m)\u001b[0m\u001b[0;34m\u001b[0m\u001b[0;34m\u001b[0m\u001b[0m\n\u001b[0m\u001b[1;32m    711\u001b[0m \u001b[0;34m\u001b[0m\u001b[0m\n\u001b[1;32m    712\u001b[0m         \u001b[0;31m# For multi-metric evaluation, store the best_index_, best_params_ and\u001b[0m\u001b[0;34m\u001b[0m\u001b[0;34m\u001b[0m\u001b[0;34m\u001b[0m\u001b[0m\n",
            "\u001b[0;32m/usr/local/lib/python3.7/dist-packages/sklearn/model_selection/_search.py\u001b[0m in \u001b[0;36m_run_search\u001b[0;34m(self, evaluate_candidates)\u001b[0m\n\u001b[1;32m   1149\u001b[0m     \u001b[0;32mdef\u001b[0m \u001b[0m_run_search\u001b[0m\u001b[0;34m(\u001b[0m\u001b[0mself\u001b[0m\u001b[0;34m,\u001b[0m \u001b[0mevaluate_candidates\u001b[0m\u001b[0;34m)\u001b[0m\u001b[0;34m:\u001b[0m\u001b[0;34m\u001b[0m\u001b[0;34m\u001b[0m\u001b[0m\n\u001b[1;32m   1150\u001b[0m         \u001b[0;34m\"\"\"Search all candidates in param_grid\"\"\"\u001b[0m\u001b[0;34m\u001b[0m\u001b[0;34m\u001b[0m\u001b[0m\n\u001b[0;32m-> 1151\u001b[0;31m         \u001b[0mevaluate_candidates\u001b[0m\u001b[0;34m(\u001b[0m\u001b[0mParameterGrid\u001b[0m\u001b[0;34m(\u001b[0m\u001b[0mself\u001b[0m\u001b[0;34m.\u001b[0m\u001b[0mparam_grid\u001b[0m\u001b[0;34m)\u001b[0m\u001b[0;34m)\u001b[0m\u001b[0;34m\u001b[0m\u001b[0;34m\u001b[0m\u001b[0m\n\u001b[0m\u001b[1;32m   1152\u001b[0m \u001b[0;34m\u001b[0m\u001b[0m\n\u001b[1;32m   1153\u001b[0m \u001b[0;34m\u001b[0m\u001b[0m\n",
            "\u001b[0;32m/usr/local/lib/python3.7/dist-packages/sklearn/model_selection/_search.py\u001b[0m in \u001b[0;36mevaluate_candidates\u001b[0;34m(candidate_params)\u001b[0m\n\u001b[1;32m    687\u001b[0m                                \u001b[0;32mfor\u001b[0m \u001b[0mparameters\u001b[0m\u001b[0;34m,\u001b[0m \u001b[0;34m(\u001b[0m\u001b[0mtrain\u001b[0m\u001b[0;34m,\u001b[0m \u001b[0mtest\u001b[0m\u001b[0;34m)\u001b[0m\u001b[0;34m\u001b[0m\u001b[0;34m\u001b[0m\u001b[0m\n\u001b[1;32m    688\u001b[0m                                in product(candidate_params,\n\u001b[0;32m--> 689\u001b[0;31m                                           cv.split(X, y, groups)))\n\u001b[0m\u001b[1;32m    690\u001b[0m \u001b[0;34m\u001b[0m\u001b[0m\n\u001b[1;32m    691\u001b[0m                 \u001b[0;32mif\u001b[0m \u001b[0mlen\u001b[0m\u001b[0;34m(\u001b[0m\u001b[0mout\u001b[0m\u001b[0;34m)\u001b[0m \u001b[0;34m<\u001b[0m \u001b[0;36m1\u001b[0m\u001b[0;34m:\u001b[0m\u001b[0;34m\u001b[0m\u001b[0;34m\u001b[0m\u001b[0m\n",
            "\u001b[0;32m/usr/local/lib/python3.7/dist-packages/joblib/parallel.py\u001b[0m in \u001b[0;36m__call__\u001b[0;34m(self, iterable)\u001b[0m\n\u001b[1;32m   1052\u001b[0m \u001b[0;34m\u001b[0m\u001b[0m\n\u001b[1;32m   1053\u001b[0m             \u001b[0;32mwith\u001b[0m \u001b[0mself\u001b[0m\u001b[0;34m.\u001b[0m\u001b[0m_backend\u001b[0m\u001b[0;34m.\u001b[0m\u001b[0mretrieval_context\u001b[0m\u001b[0;34m(\u001b[0m\u001b[0;34m)\u001b[0m\u001b[0;34m:\u001b[0m\u001b[0;34m\u001b[0m\u001b[0;34m\u001b[0m\u001b[0m\n\u001b[0;32m-> 1054\u001b[0;31m                 \u001b[0mself\u001b[0m\u001b[0;34m.\u001b[0m\u001b[0mretrieve\u001b[0m\u001b[0;34m(\u001b[0m\u001b[0;34m)\u001b[0m\u001b[0;34m\u001b[0m\u001b[0;34m\u001b[0m\u001b[0m\n\u001b[0m\u001b[1;32m   1055\u001b[0m             \u001b[0;31m# Make sure that we get a last message telling us we are done\u001b[0m\u001b[0;34m\u001b[0m\u001b[0;34m\u001b[0m\u001b[0;34m\u001b[0m\u001b[0m\n\u001b[1;32m   1056\u001b[0m             \u001b[0melapsed_time\u001b[0m \u001b[0;34m=\u001b[0m \u001b[0mtime\u001b[0m\u001b[0;34m.\u001b[0m\u001b[0mtime\u001b[0m\u001b[0;34m(\u001b[0m\u001b[0;34m)\u001b[0m \u001b[0;34m-\u001b[0m \u001b[0mself\u001b[0m\u001b[0;34m.\u001b[0m\u001b[0m_start_time\u001b[0m\u001b[0;34m\u001b[0m\u001b[0;34m\u001b[0m\u001b[0m\n",
            "\u001b[0;32m/usr/local/lib/python3.7/dist-packages/joblib/parallel.py\u001b[0m in \u001b[0;36mretrieve\u001b[0;34m(self)\u001b[0m\n\u001b[1;32m    931\u001b[0m             \u001b[0;32mtry\u001b[0m\u001b[0;34m:\u001b[0m\u001b[0;34m\u001b[0m\u001b[0;34m\u001b[0m\u001b[0m\n\u001b[1;32m    932\u001b[0m                 \u001b[0;32mif\u001b[0m \u001b[0mgetattr\u001b[0m\u001b[0;34m(\u001b[0m\u001b[0mself\u001b[0m\u001b[0;34m.\u001b[0m\u001b[0m_backend\u001b[0m\u001b[0;34m,\u001b[0m \u001b[0;34m'supports_timeout'\u001b[0m\u001b[0;34m,\u001b[0m \u001b[0;32mFalse\u001b[0m\u001b[0;34m)\u001b[0m\u001b[0;34m:\u001b[0m\u001b[0;34m\u001b[0m\u001b[0;34m\u001b[0m\u001b[0m\n\u001b[0;32m--> 933\u001b[0;31m                     \u001b[0mself\u001b[0m\u001b[0;34m.\u001b[0m\u001b[0m_output\u001b[0m\u001b[0;34m.\u001b[0m\u001b[0mextend\u001b[0m\u001b[0;34m(\u001b[0m\u001b[0mjob\u001b[0m\u001b[0;34m.\u001b[0m\u001b[0mget\u001b[0m\u001b[0;34m(\u001b[0m\u001b[0mtimeout\u001b[0m\u001b[0;34m=\u001b[0m\u001b[0mself\u001b[0m\u001b[0;34m.\u001b[0m\u001b[0mtimeout\u001b[0m\u001b[0;34m)\u001b[0m\u001b[0;34m)\u001b[0m\u001b[0;34m\u001b[0m\u001b[0;34m\u001b[0m\u001b[0m\n\u001b[0m\u001b[1;32m    934\u001b[0m                 \u001b[0;32melse\u001b[0m\u001b[0;34m:\u001b[0m\u001b[0;34m\u001b[0m\u001b[0;34m\u001b[0m\u001b[0m\n\u001b[1;32m    935\u001b[0m                     \u001b[0mself\u001b[0m\u001b[0;34m.\u001b[0m\u001b[0m_output\u001b[0m\u001b[0;34m.\u001b[0m\u001b[0mextend\u001b[0m\u001b[0;34m(\u001b[0m\u001b[0mjob\u001b[0m\u001b[0;34m.\u001b[0m\u001b[0mget\u001b[0m\u001b[0;34m(\u001b[0m\u001b[0;34m)\u001b[0m\u001b[0;34m)\u001b[0m\u001b[0;34m\u001b[0m\u001b[0;34m\u001b[0m\u001b[0m\n",
            "\u001b[0;32m/usr/local/lib/python3.7/dist-packages/joblib/_parallel_backends.py\u001b[0m in \u001b[0;36mwrap_future_result\u001b[0;34m(future, timeout)\u001b[0m\n\u001b[1;32m    540\u001b[0m         AsyncResults.get from multiprocessing.\"\"\"\n\u001b[1;32m    541\u001b[0m         \u001b[0;32mtry\u001b[0m\u001b[0;34m:\u001b[0m\u001b[0;34m\u001b[0m\u001b[0;34m\u001b[0m\u001b[0m\n\u001b[0;32m--> 542\u001b[0;31m             \u001b[0;32mreturn\u001b[0m \u001b[0mfuture\u001b[0m\u001b[0;34m.\u001b[0m\u001b[0mresult\u001b[0m\u001b[0;34m(\u001b[0m\u001b[0mtimeout\u001b[0m\u001b[0;34m=\u001b[0m\u001b[0mtimeout\u001b[0m\u001b[0;34m)\u001b[0m\u001b[0;34m\u001b[0m\u001b[0;34m\u001b[0m\u001b[0m\n\u001b[0m\u001b[1;32m    543\u001b[0m         \u001b[0;32mexcept\u001b[0m \u001b[0mCfTimeoutError\u001b[0m \u001b[0;32mas\u001b[0m \u001b[0me\u001b[0m\u001b[0;34m:\u001b[0m\u001b[0;34m\u001b[0m\u001b[0;34m\u001b[0m\u001b[0m\n\u001b[1;32m    544\u001b[0m             \u001b[0;32mraise\u001b[0m \u001b[0mTimeoutError\u001b[0m \u001b[0;32mfrom\u001b[0m \u001b[0me\u001b[0m\u001b[0;34m\u001b[0m\u001b[0;34m\u001b[0m\u001b[0m\n",
            "\u001b[0;32m/usr/lib/python3.7/concurrent/futures/_base.py\u001b[0m in \u001b[0;36mresult\u001b[0;34m(self, timeout)\u001b[0m\n\u001b[1;32m    428\u001b[0m                 \u001b[0;32mreturn\u001b[0m \u001b[0mself\u001b[0m\u001b[0;34m.\u001b[0m\u001b[0m__get_result\u001b[0m\u001b[0;34m(\u001b[0m\u001b[0;34m)\u001b[0m\u001b[0;34m\u001b[0m\u001b[0;34m\u001b[0m\u001b[0m\n\u001b[1;32m    429\u001b[0m \u001b[0;34m\u001b[0m\u001b[0m\n\u001b[0;32m--> 430\u001b[0;31m             \u001b[0mself\u001b[0m\u001b[0;34m.\u001b[0m\u001b[0m_condition\u001b[0m\u001b[0;34m.\u001b[0m\u001b[0mwait\u001b[0m\u001b[0;34m(\u001b[0m\u001b[0mtimeout\u001b[0m\u001b[0;34m)\u001b[0m\u001b[0;34m\u001b[0m\u001b[0;34m\u001b[0m\u001b[0m\n\u001b[0m\u001b[1;32m    431\u001b[0m \u001b[0;34m\u001b[0m\u001b[0m\n\u001b[1;32m    432\u001b[0m             \u001b[0;32mif\u001b[0m \u001b[0mself\u001b[0m\u001b[0;34m.\u001b[0m\u001b[0m_state\u001b[0m \u001b[0;32min\u001b[0m \u001b[0;34m[\u001b[0m\u001b[0mCANCELLED\u001b[0m\u001b[0;34m,\u001b[0m \u001b[0mCANCELLED_AND_NOTIFIED\u001b[0m\u001b[0;34m]\u001b[0m\u001b[0;34m:\u001b[0m\u001b[0;34m\u001b[0m\u001b[0;34m\u001b[0m\u001b[0m\n",
            "\u001b[0;32m/usr/lib/python3.7/threading.py\u001b[0m in \u001b[0;36mwait\u001b[0;34m(self, timeout)\u001b[0m\n\u001b[1;32m    294\u001b[0m         \u001b[0;32mtry\u001b[0m\u001b[0;34m:\u001b[0m    \u001b[0;31m# restore state no matter what (e.g., KeyboardInterrupt)\u001b[0m\u001b[0;34m\u001b[0m\u001b[0;34m\u001b[0m\u001b[0m\n\u001b[1;32m    295\u001b[0m             \u001b[0;32mif\u001b[0m \u001b[0mtimeout\u001b[0m \u001b[0;32mis\u001b[0m \u001b[0;32mNone\u001b[0m\u001b[0;34m:\u001b[0m\u001b[0;34m\u001b[0m\u001b[0;34m\u001b[0m\u001b[0m\n\u001b[0;32m--> 296\u001b[0;31m                 \u001b[0mwaiter\u001b[0m\u001b[0;34m.\u001b[0m\u001b[0macquire\u001b[0m\u001b[0;34m(\u001b[0m\u001b[0;34m)\u001b[0m\u001b[0;34m\u001b[0m\u001b[0;34m\u001b[0m\u001b[0m\n\u001b[0m\u001b[1;32m    297\u001b[0m                 \u001b[0mgotit\u001b[0m \u001b[0;34m=\u001b[0m \u001b[0;32mTrue\u001b[0m\u001b[0;34m\u001b[0m\u001b[0;34m\u001b[0m\u001b[0m\n\u001b[1;32m    298\u001b[0m             \u001b[0;32melse\u001b[0m\u001b[0;34m:\u001b[0m\u001b[0;34m\u001b[0m\u001b[0;34m\u001b[0m\u001b[0m\n",
            "\u001b[0;31mKeyboardInterrupt\u001b[0m: "
          ]
        }
      ]
    },
    {
      "cell_type": "code",
      "metadata": {
        "id": "99rFyJJY50qm"
      },
      "source": [
        "# Fitting the Model\n",
        "y_pred = search.predict(X_test)\n",
        "score = search.score(X_test,y_test)*100\n",
        "print(\"Custom accuracy:\" , custom_accuracy(y_test,y_pred,10))"
      ],
      "execution_count": null,
      "outputs": []
    },
    {
      "cell_type": "code",
      "metadata": {
        "colab": {
          "base_uri": "https://localhost:8080/"
        },
        "id": "UjraEUQ31D1E",
        "outputId": "3ad98447-594c-4fa2-b23e-c029b8310055"
      },
      "source": [
        "# Splitting the dataset into the Training set and Test set\n",
        "# from sklearn.model_selection import train_test_split\n",
        "# X_train, X_test, y_train, y_test = train_test_split(X, y, test_size = 0.25, random_state = 0)\n",
        "\n",
        "# # Feature Scaling\n",
        "# from sklearn.preprocessing import StandardScaler\n",
        "# sc = StandardScaler()\n",
        "# X_train = sc.fit_transform(X_train)\n",
        "# X_test = sc.transform(X_test)\n",
        "\n",
        "# Training the dataset\n",
        "from sklearn.linear_model import LinearRegression\n",
        "lin = LinearRegression()\n",
        "lin.fit(X_train,y_train)\n",
        "\n",
        "# Testing the dataset on trained model\n",
        "y_pred = lin.predict(X_test)\n",
        "score = lin.score(X_test,y_test)*100\n",
        "print(\"R square value:\" , score)\n",
        "print(\"Custom accuracy:\" , custom_accuracy(y_test,y_pred,10))\n",
        "\n",
        "# Testing with a custom input\n",
        "import numpy as np\n",
        "new_prediction = lin.predict(sc.transform(np.array([[100,5,19.3,50,2]])))\n",
        "print(\"Prediction score:\" , new_prediction)"
      ],
      "execution_count": null,
      "outputs": [
        {
          "output_type": "stream",
          "text": [
            "R square value: 75.33244760640731\n",
            "Custom accuracy: 60.515287909358996\n",
            "Prediction score: [108.7913039]\n"
          ],
          "name": "stdout"
        }
      ]
    },
    {
      "cell_type": "code",
      "metadata": {
        "id": "Mm2ZQQgLHFhJ"
      },
      "source": [
        "l=[]\n",
        "for i in range(0,20):\n",
        "  l.append(custom_accuracy(y_test,y_pred,i))"
      ],
      "execution_count": null,
      "outputs": []
    },
    {
      "cell_type": "code",
      "metadata": {
        "colab": {
          "base_uri": "https://localhost:8080/"
        },
        "id": "H4iE13dTHSeI",
        "outputId": "697e3016-a314-4c9d-8cb9-495d6d39b450"
      },
      "source": [
        "for i,ele in enumerate(l):\n",
        "  print(i,ele)"
      ],
      "execution_count": null,
      "outputs": [
        {
          "output_type": "stream",
          "text": [
            "0 4.7113683872005145\n",
            "1 14.841614407461007\n",
            "2 24.794983116256635\n",
            "3 33.5102106447982\n",
            "4 41.7269657501206\n",
            "5 49.10757356488181\n",
            "6 55.79675188937128\n",
            "7 61.66586267888729\n",
            "8 66.94002251165783\n",
            "9 71.58707187650748\n",
            "10 76.25020099694486\n",
            "11 80.14150184917189\n",
            "12 83.34137321112719\n",
            "13 85.41566168194244\n",
            "14 87.77938575333654\n",
            "15 89.66071715709921\n",
            "16 91.23653320469529\n",
            "17 92.61939218523878\n",
            "18 93.74497507637884\n",
            "19 94.70976041164174\n"
          ],
          "name": "stdout"
        }
      ]
    },
    {
      "cell_type": "code",
      "metadata": {
        "colab": {
          "base_uri": "https://localhost:8080/"
        },
        "id": "zC7gCBbs8JOX",
        "outputId": "6d25fb06-ebc5-46c3-c69a-fe4273321264"
      },
      "source": [
        "# Training the dataset\n",
        "from sklearn.ensemble import RandomForestRegressor\n",
        "reg = RandomForestRegressor(n_estimators=100,max_features=None)\n",
        "reg.fit(X_train,y_train)\n",
        "\n",
        "# Testing the dataset on trained model\n",
        "y_pred = reg.predict(X_test)\n",
        "score = reg.score(X_test,y_test)*100\n",
        "print(\"R square value:\" , score)\n",
        "print(\"Custom accuracy:\" , custom_accuracy(y_test,y_pred,20))\n",
        "\n",
        "# Testing with a custom input\n",
        "import numpy as np\n",
        "new_prediction = reg.predict(sc.transform(np.array([[100,0,13,50,50]])))\n",
        "print(\"Prediction score:\" , new_prediction)"
      ],
      "execution_count": null,
      "outputs": [
        {
          "output_type": "stream",
          "text": [
            "R square value: 67.71980676706222\n",
            "Custom accuracy: 84.38997125519003\n",
            "Prediction score: [166.87]\n"
          ],
          "name": "stdout"
        }
      ]
    },
    {
      "cell_type": "code",
      "metadata": {
        "colab": {
          "base_uri": "https://localhost:8080/"
        },
        "id": "w67rwKaMmSCZ",
        "outputId": "ff029f60-0add-48c1-f300-e83a9e32f7b4"
      },
      "source": [
        "import numpy as np\n",
        "new_prediction = reg.predict(sc.transform(np.array([[100,9,19,3,1]])))\n",
        "print(\"Prediction score:\" , new_prediction)"
      ],
      "execution_count": null,
      "outputs": [
        {
          "output_type": "stream",
          "text": [
            "Prediction score: [102.64]\n"
          ],
          "name": "stdout"
        }
      ]
    },
    {
      "cell_type": "code",
      "metadata": {
        "colab": {
          "base_uri": "https://localhost:8080/",
          "height": 348
        },
        "id": "mx5K769jO6tN",
        "outputId": "243eea1e-0114-4833-ff90-412ef44cb965"
      },
      "source": [
        "dataset.tail(10)"
      ],
      "execution_count": null,
      "outputs": [
        {
          "output_type": "execute_result",
          "data": {
            "text/html": [
              "<div>\n",
              "<style scoped>\n",
              "    .dataframe tbody tr th:only-of-type {\n",
              "        vertical-align: middle;\n",
              "    }\n",
              "\n",
              "    .dataframe tbody tr th {\n",
              "        vertical-align: top;\n",
              "    }\n",
              "\n",
              "    .dataframe thead th {\n",
              "        text-align: right;\n",
              "    }\n",
              "</style>\n",
              "<table border=\"1\" class=\"dataframe\">\n",
              "  <thead>\n",
              "    <tr style=\"text-align: right;\">\n",
              "      <th></th>\n",
              "      <th>Unnamed: 0</th>\n",
              "      <th>Unnamed: 0.1</th>\n",
              "      <th>striker</th>\n",
              "      <th>non_striker</th>\n",
              "      <th>Wicket</th>\n",
              "      <th>overs</th>\n",
              "      <th>run_sum</th>\n",
              "      <th>innings</th>\n",
              "      <th>runs_off_bat</th>\n",
              "      <th>player_dismissed</th>\n",
              "      <th>required_striker</th>\n",
              "      <th>required_non_striker</th>\n",
              "      <th>runs</th>\n",
              "    </tr>\n",
              "  </thead>\n",
              "  <tbody>\n",
              "    <tr>\n",
              "      <th>100181</th>\n",
              "      <td>100181</td>\n",
              "      <td>193495</td>\n",
              "      <td>AR Patel</td>\n",
              "      <td>SS Iyer</td>\n",
              "      <td>4</td>\n",
              "      <td>18.3</td>\n",
              "      <td>156.0</td>\n",
              "      <td>1</td>\n",
              "      <td>1</td>\n",
              "      <td>NaN</td>\n",
              "      <td>8</td>\n",
              "      <td>0</td>\n",
              "      <td>145</td>\n",
              "    </tr>\n",
              "    <tr>\n",
              "      <th>100182</th>\n",
              "      <td>100182</td>\n",
              "      <td>193496</td>\n",
              "      <td>SS Iyer</td>\n",
              "      <td>AR Patel</td>\n",
              "      <td>4</td>\n",
              "      <td>18.4</td>\n",
              "      <td>156.0</td>\n",
              "      <td>1</td>\n",
              "      <td>0</td>\n",
              "      <td>NaN</td>\n",
              "      <td>8</td>\n",
              "      <td>0</td>\n",
              "      <td>146</td>\n",
              "    </tr>\n",
              "    <tr>\n",
              "      <th>100183</th>\n",
              "      <td>100183</td>\n",
              "      <td>193497</td>\n",
              "      <td>AR Patel</td>\n",
              "      <td>SS Iyer</td>\n",
              "      <td>4</td>\n",
              "      <td>18.5</td>\n",
              "      <td>156.0</td>\n",
              "      <td>1</td>\n",
              "      <td>2</td>\n",
              "      <td>NaN</td>\n",
              "      <td>10</td>\n",
              "      <td>0</td>\n",
              "      <td>148</td>\n",
              "    </tr>\n",
              "    <tr>\n",
              "      <th>100184</th>\n",
              "      <td>100184</td>\n",
              "      <td>193498</td>\n",
              "      <td>AR Patel</td>\n",
              "      <td>SS Iyer</td>\n",
              "      <td>4</td>\n",
              "      <td>18.6</td>\n",
              "      <td>156.0</td>\n",
              "      <td>1</td>\n",
              "      <td>0</td>\n",
              "      <td>NaN</td>\n",
              "      <td>10</td>\n",
              "      <td>0</td>\n",
              "      <td>148</td>\n",
              "    </tr>\n",
              "    <tr>\n",
              "      <th>100185</th>\n",
              "      <td>100185</td>\n",
              "      <td>193499</td>\n",
              "      <td>SS Iyer</td>\n",
              "      <td>AR Patel</td>\n",
              "      <td>4</td>\n",
              "      <td>19.1</td>\n",
              "      <td>156.0</td>\n",
              "      <td>1</td>\n",
              "      <td>1</td>\n",
              "      <td>NaN</td>\n",
              "      <td>11</td>\n",
              "      <td>0</td>\n",
              "      <td>149</td>\n",
              "    </tr>\n",
              "    <tr>\n",
              "      <th>100186</th>\n",
              "      <td>100186</td>\n",
              "      <td>193500</td>\n",
              "      <td>AR Patel</td>\n",
              "      <td>SS Iyer</td>\n",
              "      <td>5</td>\n",
              "      <td>19.2</td>\n",
              "      <td>156.0</td>\n",
              "      <td>1</td>\n",
              "      <td>0</td>\n",
              "      <td>AR Patel</td>\n",
              "      <td>0</td>\n",
              "      <td>0</td>\n",
              "      <td>149</td>\n",
              "    </tr>\n",
              "    <tr>\n",
              "      <th>100187</th>\n",
              "      <td>100187</td>\n",
              "      <td>193501</td>\n",
              "      <td>SS Iyer</td>\n",
              "      <td>K Rabada</td>\n",
              "      <td>5</td>\n",
              "      <td>19.3</td>\n",
              "      <td>156.0</td>\n",
              "      <td>1</td>\n",
              "      <td>0</td>\n",
              "      <td>NaN</td>\n",
              "      <td>0</td>\n",
              "      <td>0</td>\n",
              "      <td>149</td>\n",
              "    </tr>\n",
              "    <tr>\n",
              "      <th>100188</th>\n",
              "      <td>100188</td>\n",
              "      <td>193502</td>\n",
              "      <td>SS Iyer</td>\n",
              "      <td>K Rabada</td>\n",
              "      <td>5</td>\n",
              "      <td>19.4</td>\n",
              "      <td>156.0</td>\n",
              "      <td>1</td>\n",
              "      <td>0</td>\n",
              "      <td>NaN</td>\n",
              "      <td>0</td>\n",
              "      <td>0</td>\n",
              "      <td>149</td>\n",
              "    </tr>\n",
              "    <tr>\n",
              "      <th>100189</th>\n",
              "      <td>100189</td>\n",
              "      <td>193503</td>\n",
              "      <td>SS Iyer</td>\n",
              "      <td>K Rabada</td>\n",
              "      <td>5</td>\n",
              "      <td>19.5</td>\n",
              "      <td>156.0</td>\n",
              "      <td>1</td>\n",
              "      <td>6</td>\n",
              "      <td>NaN</td>\n",
              "      <td>6</td>\n",
              "      <td>0</td>\n",
              "      <td>155</td>\n",
              "    </tr>\n",
              "    <tr>\n",
              "      <th>100190</th>\n",
              "      <td>100190</td>\n",
              "      <td>193504</td>\n",
              "      <td>SS Iyer</td>\n",
              "      <td>K Rabada</td>\n",
              "      <td>6</td>\n",
              "      <td>19.6</td>\n",
              "      <td>156.0</td>\n",
              "      <td>1</td>\n",
              "      <td>1</td>\n",
              "      <td>K Rabada</td>\n",
              "      <td>1</td>\n",
              "      <td>0</td>\n",
              "      <td>156</td>\n",
              "    </tr>\n",
              "  </tbody>\n",
              "</table>\n",
              "</div>"
            ],
            "text/plain": [
              "        Unnamed: 0  Unnamed: 0.1  ... required_non_striker runs\n",
              "100181      100181        193495  ...                    0  145\n",
              "100182      100182        193496  ...                    0  146\n",
              "100183      100183        193497  ...                    0  148\n",
              "100184      100184        193498  ...                    0  148\n",
              "100185      100185        193499  ...                    0  149\n",
              "100186      100186        193500  ...                    0  149\n",
              "100187      100187        193501  ...                    0  149\n",
              "100188      100188        193502  ...                    0  149\n",
              "100189      100189        193503  ...                    0  155\n",
              "100190      100190        193504  ...                    0  156\n",
              "\n",
              "[10 rows x 13 columns]"
            ]
          },
          "metadata": {
            "tags": []
          },
          "execution_count": 41
        }
      ]
    },
    {
      "cell_type": "code",
      "metadata": {
        "colab": {
          "base_uri": "https://localhost:8080/"
        },
        "id": "hrqyTGzd8U_U",
        "outputId": "b85ad740-52df-4963-dadc-27094204b7a1"
      },
      "source": [
        "from sklearn.metrics import accuracy_score\n",
        "from sklearn.tree import DecisionTreeRegressor\n",
        "from sklearn.ensemble import RandomForestRegressor\n",
        "from sklearn.neighbors import KNeighborsRegressor\n",
        "from sklearn.linear_model import LinearRegression\n",
        "from sklearn.ensemble import AdaBoostRegressor\n",
        "from sklearn.ensemble import GradientBoostingRegressor\n",
        "from xgboost import XGBRegressor\n",
        "from catboost import CatBoostRegressor\n",
        "from sklearn.linear_model import Lasso,Ridge,BayesianRidge,ElasticNet,HuberRegressor,LinearRegression,LogisticRegression,SGDRegressor\n",
        "from sklearn.metrics import mean_squared_error\n",
        "\n",
        "models = [['DecisionTree :',DecisionTreeRegressor()],\n",
        "           ['Linear Regression :', LinearRegression()],\n",
        "           ['RandomForest :',RandomForestRegressor()],\n",
        "           ['KNeighbours :', KNeighborsRegressor(n_neighbors = 2)],\n",
        "           #['SVM :', SVR()],\n",
        "           ['AdaBoostClassifier :', AdaBoostRegressor()],\n",
        "           ['GradientBoostingClassifier: ', GradientBoostingRegressor()],\n",
        "           ['Xgboost: ', XGBRegressor()],\n",
        "           ['CatBoost: ', CatBoostRegressor(logging_level='Silent')],\n",
        "           ['Lasso: ', Lasso()],\n",
        "           ['Ridge: ', Ridge()],\n",
        "           ['BayesianRidge: ', BayesianRidge()],\n",
        "           ['ElasticNet: ', ElasticNet()],\n",
        "           ['HuberRegressor: ', HuberRegressor()]]\n",
        "\n",
        "print(\"Results...\")\n",
        "\n",
        "\n",
        "for name,model in models:\n",
        "    model = model\n",
        "    model.fit(X_train, y_train)\n",
        "    predictions = model.predict(X_test)\n",
        "    print(name, (np.sqrt(mean_squared_error(y_test, predictions))))\n",
        "    print(\"Custom accuracy:\" , custom_accuracy(y_test,y_pred,5))\n",
        "    print(model.predict(sc.transform(np.array([[128,4,16.6,71,4]]))))"
      ],
      "execution_count": null,
      "outputs": [
        {
          "output_type": "stream",
          "text": [
            "Results...\n",
            "DecisionTree : 9.961547714437772\n",
            "Custom accuracy: 49.10757356488181\n",
            "[157.]\n",
            "Linear Regression : 9.656075381415805\n",
            "Custom accuracy: 49.10757356488181\n",
            "[161.14098297]\n",
            "RandomForest : 6.90872621058927\n",
            "Custom accuracy: 49.10757356488181\n",
            "[165.28]\n",
            "KNeighbours : 6.4867454255915975\n",
            "Custom accuracy: 49.10757356488181\n",
            "[168.]\n",
            "AdaBoostClassifier : 12.509737796523995\n",
            "Custom accuracy: 49.10757356488181\n",
            "[162.9109136]\n",
            "GradientBoostingClassifier:  9.252298596484929\n",
            "Custom accuracy: 49.10757356488181\n",
            "[162.88930094]\n",
            "[08:31:59] WARNING: /workspace/src/objective/regression_obj.cu:152: reg:linear is now deprecated in favor of reg:squarederror.\n",
            "Xgboost:  9.265018120994084\n",
            "Custom accuracy: 49.10757356488181\n",
            "[163.56276]\n",
            "CatBoost:  8.114021434105535\n",
            "Custom accuracy: 49.10757356488181\n",
            "[166.33697438]\n",
            "Lasso:  9.96113152834177\n",
            "Custom accuracy: 49.10757356488181\n",
            "[160.29346897]\n",
            "Ridge:  9.656145953875901\n",
            "Custom accuracy: 49.10757356488181\n",
            "[161.14103671]\n",
            "BayesianRidge:  9.65610794174292\n",
            "Custom accuracy: 49.10757356488181\n",
            "[161.1410078]\n",
            "ElasticNet:  14.596770634425454\n",
            "Custom accuracy: 49.10757356488181\n",
            "[162.55344914]\n",
            "HuberRegressor:  9.722485337456542\n",
            "Custom accuracy: 49.10757356488181\n",
            "[160.75173088]\n"
          ],
          "name": "stdout"
        }
      ]
    },
    {
      "cell_type": "code",
      "metadata": {
        "colab": {
          "base_uri": "https://localhost:8080/"
        },
        "id": "yH35y3Rmb5ca",
        "outputId": "7f56cc1e-99e7-4ca5-e723-b4c5d04f7c4e"
      },
      "source": [
        "!pip install catboost"
      ],
      "execution_count": null,
      "outputs": [
        {
          "output_type": "stream",
          "text": [
            "Collecting catboost\n",
            "\u001b[?25l  Downloading https://files.pythonhosted.org/packages/47/80/8e9c57ec32dfed6ba2922bc5c96462cbf8596ce1a6f5de532ad1e43e53fe/catboost-0.25.1-cp37-none-manylinux1_x86_64.whl (67.3MB)\n",
            "\u001b[K     |████████████████████████████████| 67.3MB 63kB/s \n",
            "\u001b[?25hRequirement already satisfied: numpy>=1.16.0 in /usr/local/lib/python3.7/dist-packages (from catboost) (1.19.5)\n",
            "Requirement already satisfied: scipy in /usr/local/lib/python3.7/dist-packages (from catboost) (1.4.1)\n",
            "Requirement already satisfied: matplotlib in /usr/local/lib/python3.7/dist-packages (from catboost) (3.2.2)\n",
            "Requirement already satisfied: plotly in /usr/local/lib/python3.7/dist-packages (from catboost) (4.4.1)\n",
            "Requirement already satisfied: pandas>=0.24.0 in /usr/local/lib/python3.7/dist-packages (from catboost) (1.1.5)\n",
            "Requirement already satisfied: graphviz in /usr/local/lib/python3.7/dist-packages (from catboost) (0.10.1)\n",
            "Requirement already satisfied: six in /usr/local/lib/python3.7/dist-packages (from catboost) (1.15.0)\n",
            "Requirement already satisfied: cycler>=0.10 in /usr/local/lib/python3.7/dist-packages (from matplotlib->catboost) (0.10.0)\n",
            "Requirement already satisfied: python-dateutil>=2.1 in /usr/local/lib/python3.7/dist-packages (from matplotlib->catboost) (2.8.1)\n",
            "Requirement already satisfied: kiwisolver>=1.0.1 in /usr/local/lib/python3.7/dist-packages (from matplotlib->catboost) (1.3.1)\n",
            "Requirement already satisfied: pyparsing!=2.0.4,!=2.1.2,!=2.1.6,>=2.0.1 in /usr/local/lib/python3.7/dist-packages (from matplotlib->catboost) (2.4.7)\n",
            "Requirement already satisfied: retrying>=1.3.3 in /usr/local/lib/python3.7/dist-packages (from plotly->catboost) (1.3.3)\n",
            "Requirement already satisfied: pytz>=2017.2 in /usr/local/lib/python3.7/dist-packages (from pandas>=0.24.0->catboost) (2018.9)\n",
            "Installing collected packages: catboost\n",
            "Successfully installed catboost-0.25.1\n"
          ],
          "name": "stdout"
        }
      ]
    }
  ]
}