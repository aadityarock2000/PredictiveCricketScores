{
 "cells": [
  {
   "cell_type": "code",
   "execution_count": 10,
   "id": "c6c2ea0c",
   "metadata": {},
   "outputs": [],
   "source": [
    "import pandas as pd\n",
    "import gzip, pickle, pickletools\n",
    "import pickle\n",
    "from sklearn.preprocessing import StandardScaler\n",
    "from joblib import load\n",
    "import numpy as np"
   ]
  },
  {
   "cell_type": "code",
   "execution_count": 2,
   "id": "1543a170",
   "metadata": {},
   "outputs": [
    {
     "name": "stderr",
     "output_type": "stream",
     "text": [
      "D:\\anaconda3\\envs\\cricket\\lib\\site-packages\\scipy\\__init__.py:146: UserWarning: A NumPy version >=1.16.5 and <1.23.0 is required for this version of SciPy (detected version 1.23.1\n",
      "  warnings.warn(f\"A NumPy version >={np_minversion} and <{np_maxversion}\"\n"
     ]
    }
   ],
   "source": [
    "model = pickle.load(open('random_forest_regressor.pkl', 'rb'))"
   ]
  },
  {
   "cell_type": "code",
   "execution_count": 3,
   "id": "37a5e9b9",
   "metadata": {},
   "outputs": [],
   "source": [
    "filepath = \"random_forest_optimised.pkl\"\n",
    "with gzip.open(filepath, \"wb\") as f:\n",
    "    pickled = pickle.dumps(model)\n",
    "    optimized_pickle = pickletools.optimize(pickled)\n",
    "    f.write(optimized_pickle)"
   ]
  },
  {
   "cell_type": "code",
   "execution_count": 4,
   "id": "4bbd8acc",
   "metadata": {},
   "outputs": [],
   "source": [
    "clf=' '"
   ]
  },
  {
   "cell_type": "code",
   "execution_count": 5,
   "id": "fd30f838",
   "metadata": {},
   "outputs": [],
   "source": [
    "with gzip.open(filepath, 'rb') as f:\n",
    "    p = pickle.Unpickler(f)\n",
    "    clf = p.load()"
   ]
  },
  {
   "cell_type": "code",
   "execution_count": 8,
   "id": "79de1f9c",
   "metadata": {},
   "outputs": [],
   "source": [
    "sc=load('std_scaler.bin')"
   ]
  },
  {
   "cell_type": "code",
   "execution_count": 12,
   "id": "8da81dd2",
   "metadata": {},
   "outputs": [
    {
     "data": {
      "text/plain": [
       "105"
      ]
     },
     "execution_count": 12,
     "metadata": {},
     "output_type": "execute_result"
    }
   ],
   "source": [
    "#testing\n",
    "int(clf.predict(sc.transform(np.array([[100,9,19,3,1]]))))"
   ]
  },
  {
   "cell_type": "code",
   "execution_count": null,
   "id": "814cbdfa",
   "metadata": {},
   "outputs": [],
   "source": []
  }
 ],
 "metadata": {
  "kernelspec": {
   "display_name": "Python 3 (ipykernel)",
   "language": "python",
   "name": "python3"
  },
  "language_info": {
   "codemirror_mode": {
    "name": "ipython",
    "version": 3
   },
   "file_extension": ".py",
   "mimetype": "text/x-python",
   "name": "python",
   "nbconvert_exporter": "python",
   "pygments_lexer": "ipython3",
   "version": "3.10.4"
  }
 },
 "nbformat": 4,
 "nbformat_minor": 5
}
