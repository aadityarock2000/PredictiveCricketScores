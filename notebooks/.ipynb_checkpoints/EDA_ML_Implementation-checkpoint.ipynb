{
 "cells": [
  {
   "cell_type": "markdown",
   "metadata": {
    "id": "0tdeyjYL-Hak"
   },
   "source": [
    "# **Defining Custom Accuracy**"
   ]
  },
  {
   "cell_type": "code",
   "execution_count": null,
   "metadata": {
    "id": "opLg5TYH09cY"
   },
   "outputs": [],
   "source": [
    "def custom_accuracy(y_test,y_pred,thresold):\n",
    "    right = 0\n",
    "    l = len(y_pred)\n",
    "    for i in range(0,l):\n",
    "        if(abs(round(y_pred[i])-y_test[i]) <= thresold):\n",
    "            right += 1\n",
    "    return ((right/l)*100)"
   ]
  },
  {
   "cell_type": "code",
   "execution_count": null,
   "metadata": {},
   "outputs": [],
   "source": [
    "#dataset.iloc[:,[11,3,4,13,14]]"
   ]
  },
  {
   "cell_type": "markdown",
   "metadata": {
    "id": "LUc0qHfJ-c6B"
   },
   "source": [
    "# **Importing the preprocessed dataset and selecting required columns**"
   ]
  },
  {
   "cell_type": "code",
   "execution_count": null,
   "metadata": {
    "id": "2kmtTH6v1Kel"
   },
   "outputs": [],
   "source": [
    "import pandas as pd\n",
    "# Importing the dataset\n",
    "dataset = pd.read_csv('final_PreProcess10.csv')\n",
    "\n",
    "dataset=dataset[dataset['innings']==1]\n",
    "#filter the overs\n",
    "dataset=dataset[dataset['ball']>9.6]\n",
    "\n",
    "\n",
    "# Selection of required Columns\n",
    "X = dataset.iloc[:,[11,3,4,13,14]].values\n",
    "y = dataset.iloc[:, 5].values"
   ]
  },
  {
   "cell_type": "markdown",
   "metadata": {
    "id": "720D7BB8_F1r"
   },
   "source": [
    "# **Splitting the dataset into the Training set and Test set and Feature Scaling**"
   ]
  },
  {
   "cell_type": "code",
   "execution_count": null,
   "metadata": {
    "id": "N5TdpGBP7rNu"
   },
   "outputs": [],
   "source": [
    "# Splitting the dataset into the Training set and Test set\n",
    "from sklearn.model_selection import train_test_split\n",
    "X_train, X_test, y_train, y_test = train_test_split(X, y, test_size = 0.25, random_state = 0)\n",
    "\n",
    "# Feature Scaling\n",
    "from sklearn.preprocessing import StandardScaler\n",
    "sc = StandardScaler()\n",
    "X_train = sc.fit_transform(X_train)\n",
    "X_test = sc.transform(X_test)"
   ]
  },
  {
   "cell_type": "code",
   "execution_count": 14,
   "metadata": {},
   "outputs": [
    {
     "data": {
      "text/plain": [
       "['std_scaler.bin']"
      ]
     },
     "execution_count": 14,
     "metadata": {},
     "output_type": "execute_result"
    }
   ],
   "source": [
    "from joblib import dump, load\n",
    "dump(sc, 'std_scaler.bin', compress=True)"
   ]
  },
  {
   "cell_type": "markdown",
   "metadata": {
    "id": "iSpi_gOw_T_T"
   },
   "source": [
    "# **Random K-Fold Cross validation for Ridge regression model on the Cricket dataset**"
   ]
  },
  {
   "cell_type": "code",
   "execution_count": 5,
   "metadata": {
    "colab": {
     "base_uri": "https://localhost:8080/"
    },
    "id": "0159g-BervZG",
    "outputId": "f3b2139b-ad76-4367-e927-0b1e3dd69b7c"
   },
   "outputs": [
    {
     "name": "stderr",
     "output_type": "stream",
     "text": [
      "D:\\anaconda3\\envs\\cricket\\lib\\site-packages\\sklearn\\linear_model\\_base.py:148: FutureWarning: 'normalize' was deprecated in version 1.0 and will be removed in 1.2. Please leave the normalize parameter to its default value to silence this warning. The default behavior of this estimator is to not do any normalization. If normalization is needed please use sklearn.preprocessing.StandardScaler instead.\n",
      "  warnings.warn(\n"
     ]
    },
    {
     "name": "stdout",
     "output_type": "stream",
     "text": [
      "Best Score: -10.865399368073536\n",
      "Best Hyperparameters: {'alpha': 1.8576302177409518, 'fit_intercept': True, 'normalize': False, 'solver': 'sag'}\n"
     ]
    }
   ],
   "source": [
    "# random search Ridge regression model on the Cricket dataset\n",
    "from scipy.stats import loguniform\n",
    "from scipy.stats import uniform\n",
    "from pandas import read_csv\n",
    "from sklearn.linear_model import Ridge\n",
    "from sklearn.model_selection import RepeatedKFold\n",
    "from sklearn.model_selection import RandomizedSearchCV\n",
    "\n",
    "model = Ridge()\n",
    "\n",
    "# define evaluation\n",
    "cv = RepeatedKFold(n_splits=10, n_repeats=3, random_state=1)\n",
    "\n",
    "\n",
    "# define search space\n",
    "space = dict()\n",
    "space['solver'] = ['svd', 'cholesky', 'lsqr', 'sag']\n",
    "# space['alpha'] = loguniform(1e-5, 100)\n",
    "space['alpha'] = uniform(1e-5, 100)\n",
    "space['fit_intercept'] = [True, False]\n",
    "space['normalize'] = [True, False]\n",
    "\n",
    "\n",
    "# define search\n",
    "search = RandomizedSearchCV(model, space, n_iter=500, scoring='neg_mean_absolute_error', n_jobs=-1, cv=cv, random_state=1)\n",
    "\n",
    "\n",
    "# execute search\n",
    "result = search.fit(X_train, y_train)\n",
    "\n",
    "\n",
    "# summarize result\n",
    "print('Best Score: %s' % result.best_score_)\n",
    "print('Best Hyperparameters: %s' % result.best_params_)\n",
    "\n"
   ]
  },
  {
   "cell_type": "markdown",
   "metadata": {
    "id": "bdud57Xk_eBB"
   },
   "source": [
    "# **Fitting the Model with updated parameters**"
   ]
  },
  {
   "cell_type": "code",
   "execution_count": 6,
   "metadata": {
    "colab": {
     "base_uri": "https://localhost:8080/"
    },
    "id": "GsssODRXVWFG",
    "outputId": "3b728d47-c587-4caf-cbc0-d02a44ba4a54"
   },
   "outputs": [
    {
     "name": "stdout",
     "output_type": "stream",
     "text": [
      "Custom accuracy: 60.43768430855192\n"
     ]
    }
   ],
   "source": [
    "# Fitting the Model\n",
    "y_pred = search.predict(X_test)\n",
    "score = search.score(X_test,y_test)*100\n",
    "print(\"Custom accuracy:\" , custom_accuracy(y_test,y_pred,10))"
   ]
  },
  {
   "cell_type": "markdown",
   "metadata": {
    "id": "Ye2N0LgN_c0R"
   },
   "source": [
    "# **Random K-Fold Cross validation for Linear regression model on the Cricket dataset**"
   ]
  },
  {
   "cell_type": "code",
   "execution_count": 7,
   "metadata": {
    "colab": {
     "base_uri": "https://localhost:8080/"
    },
    "id": "SJLLwgMwwvqt",
    "outputId": "0ae41430-fab9-4586-a78d-8216cfa56066"
   },
   "outputs": [
    {
     "name": "stderr",
     "output_type": "stream",
     "text": [
      "D:\\anaconda3\\envs\\cricket\\lib\\site-packages\\sklearn\\model_selection\\_search.py:306: UserWarning: The total space of parameters 4 is smaller than n_iter=500. Running 4 iterations. For exhaustive searches, use GridSearchCV.\n",
      "  warnings.warn(\n"
     ]
    },
    {
     "name": "stdout",
     "output_type": "stream",
     "text": [
      "Best Score: -10.865744742058437\n",
      "Best Hyperparameters: {'normalize': True, 'fit_intercept': True}\n"
     ]
    },
    {
     "name": "stderr",
     "output_type": "stream",
     "text": [
      "D:\\anaconda3\\envs\\cricket\\lib\\site-packages\\sklearn\\linear_model\\_base.py:141: FutureWarning: 'normalize' was deprecated in version 1.0 and will be removed in 1.2.\n",
      "If you wish to scale the data, use Pipeline with a StandardScaler in a preprocessing stage. To reproduce the previous behavior:\n",
      "\n",
      "from sklearn.pipeline import make_pipeline\n",
      "\n",
      "model = make_pipeline(StandardScaler(with_mean=False), LinearRegression())\n",
      "\n",
      "If you wish to pass a sample_weight parameter, you need to pass it as a fit parameter to each step of the pipeline as follows:\n",
      "\n",
      "kwargs = {s[0] + '__sample_weight': sample_weight for s in model.steps}\n",
      "model.fit(X, y, **kwargs)\n",
      "\n",
      "\n",
      "  warnings.warn(\n"
     ]
    }
   ],
   "source": [
    "from scipy.stats import loguniform\n",
    "from pandas import read_csv\n",
    "from sklearn.linear_model import LinearRegression\n",
    "from sklearn.model_selection import RepeatedKFold\n",
    "from sklearn.model_selection import RandomizedSearchCV\n",
    "\n",
    "model = LinearRegression()\n",
    "\n",
    "# define evaluation\n",
    "cv = RepeatedKFold(n_splits=10, n_repeats=3, random_state=1)\n",
    "\n",
    "\n",
    "# define search space\n",
    "space = dict()\n",
    "space['fit_intercept'] = [True, False]\n",
    "space['normalize'] = [True, False]\n",
    "\n",
    "\n",
    "# define search\n",
    "search = RandomizedSearchCV(model, space, n_iter=500, scoring='neg_mean_absolute_error', n_jobs=-1, cv=cv, random_state=1)\n",
    "\n",
    "\n",
    "# execute search\n",
    "result = search.fit(X_train, y_train)\n",
    "\n",
    "\n",
    "# summarize result\n",
    "print('Best Score: %s' % result.best_score_)\n",
    "print('Best Hyperparameters: %s' % result.best_params_)"
   ]
  },
  {
   "cell_type": "code",
   "execution_count": 8,
   "metadata": {
    "colab": {
     "base_uri": "https://localhost:8080/"
    },
    "id": "u3ppA32_DWA8",
    "outputId": "1642a893-f31b-4a56-a435-0e4d4c280d74"
   },
   "outputs": [
    {
     "name": "stdout",
     "output_type": "stream",
     "text": [
      "Custom accuracy: 60.44544466863262\n"
     ]
    }
   ],
   "source": [
    "# Fitting the Model\n",
    "y_pred = search.predict(X_test)\n",
    "score = search.score(X_test,y_test)*100\n",
    "print(\"Custom accuracy:\" , custom_accuracy(y_test,y_pred,10))"
   ]
  },
  {
   "cell_type": "markdown",
   "metadata": {
    "id": "b7NUePE5ANdw"
   },
   "source": [
    "# **Random K-Fold Cross validation for Lasso regression model on the Cricket dataset**"
   ]
  },
  {
   "cell_type": "code",
   "execution_count": 9,
   "metadata": {
    "colab": {
     "base_uri": "https://localhost:8080/"
    },
    "id": "WdEpHLKlQBIl",
    "outputId": "7a73afcb-6957-4bfa-92ee-f05b6df11b56"
   },
   "outputs": [
    {
     "name": "stdout",
     "output_type": "stream",
     "text": [
      "Best Score: -11.166146069919716\n",
      "Best Hyperparameters: {'fit_intercept': True, 'normalize': False, 'selection': 'cyclic', 'tol': 1.012396647506536e-05}\n"
     ]
    },
    {
     "name": "stderr",
     "output_type": "stream",
     "text": [
      "D:\\anaconda3\\envs\\cricket\\lib\\site-packages\\sklearn\\linear_model\\_base.py:148: FutureWarning: 'normalize' was deprecated in version 1.0 and will be removed in 1.2. Please leave the normalize parameter to its default value to silence this warning. The default behavior of this estimator is to not do any normalization. If normalization is needed please use sklearn.preprocessing.StandardScaler instead.\n",
      "  warnings.warn(\n"
     ]
    }
   ],
   "source": [
    "from scipy.stats import loguniform\n",
    "from pandas import read_csv\n",
    "from sklearn.linear_model import Lasso\n",
    "from sklearn.model_selection import RepeatedKFold\n",
    "from sklearn.model_selection import RandomizedSearchCV\n",
    "\n",
    "model = Lasso()\n",
    "\n",
    "# define evaluation\n",
    "cv = RepeatedKFold(n_splits=10, n_repeats=3, random_state=1)\n",
    "\n",
    "\n",
    "# define search space\n",
    "space = dict()\n",
    "space['tol'] = loguniform(1e-5, 100)\n",
    "space['fit_intercept'] = [True, False]\n",
    "space['normalize'] = [True, False]\n",
    "space['selection'] = ['cyclic','random']\n",
    "\n",
    "\n",
    "# define search\n",
    "search = RandomizedSearchCV(model, space, n_iter=500, scoring='neg_mean_absolute_error', n_jobs=-1, cv=cv, random_state=1)\n",
    "\n",
    "\n",
    "# execute search\n",
    "result = search.fit(X_train, y_train)\n",
    "\n",
    "\n",
    "# summarize result\n",
    "print('Best Score: %s' % result.best_score_)\n",
    "print('Best Hyperparameters: %s' % result.best_params_)"
   ]
  },
  {
   "cell_type": "code",
   "execution_count": 10,
   "metadata": {
    "colab": {
     "base_uri": "https://localhost:8080/"
    },
    "id": "I_GFMt77wxHi",
    "outputId": "800448cf-5902-400b-87cb-ce65f83a1a24"
   },
   "outputs": [
    {
     "name": "stdout",
     "output_type": "stream",
     "text": [
      "Custom accuracy: 57.993170883128975\n"
     ]
    }
   ],
   "source": [
    "# Fitting the Model\n",
    "y_pred = search.predict(X_test)\n",
    "score = search.score(X_test,y_test)*100\n",
    "print(\"Custom accuracy:\" , custom_accuracy(y_test,y_pred,10))"
   ]
  },
  {
   "cell_type": "code",
   "execution_count": null,
   "metadata": {
    "colab": {
     "background_save": true,
     "base_uri": "https://localhost:8080/"
    },
    "id": "O9Jt6nFk5y1G",
    "outputId": "0c433bb4-910a-4fba-82e9-67a94d1799ca"
   },
   "outputs": [
    {
     "name": "stdout",
     "output_type": "stream",
     "text": [
      "Fitting 5 folds for each of 32 candidates, totalling 160 fits\n"
     ]
    }
   ],
   "source": [
    "from scipy.stats import loguniform\n",
    "from pandas import read_csv\n",
    "from sklearn.ensemble import RandomForestRegressor\n",
    "from sklearn.model_selection import RepeatedKFold\n",
    "from sklearn.model_selection import GridSearchCV\n",
    "\n",
    "model = RandomForestRegressor()\n",
    "\n",
    "# define evaluation\n",
    "cv = RepeatedKFold(n_splits=10, n_repeats=3, random_state=1)\n",
    "\n",
    "\n",
    "# define search space / Grid Space \n",
    "\n",
    "space = dict()\n",
    "space['criterion'] = ['mae','mse']\n",
    "space['warm_start'] = [True, False]\n",
    "space['ccp_alpha'] = [1e-5,1e-4,1e-3,1e-2,1e-1,1,10,100]\n",
    "\n",
    "# define search\n",
    "search = GridSearchCV(model, space, refit = True, verbose = 3,n_jobs=-1)\n",
    "\n",
    "\n",
    "# execute search\n",
    "result = search.fit(X_train, y_train)\n",
    "\n",
    "\n",
    "# summarize result\n",
    "print('Best Score: %s' % result.best_score_)\n",
    "print('Best Hyperparameters: %s' % result.best_params_)"
   ]
  },
  {
   "cell_type": "code",
   "execution_count": null,
   "metadata": {
    "id": "99rFyJJY50qm"
   },
   "outputs": [],
   "source": [
    "# Fitting the Model\n",
    "y_pred = search.predict(X_test)\n",
    "score = search.score(X_test,y_test)*100\n",
    "print(\"Custom accuracy:\" , custom_accuracy(y_test,y_pred,10))"
   ]
  },
  {
   "cell_type": "code",
   "execution_count": null,
   "metadata": {
    "colab": {
     "base_uri": "https://localhost:8080/"
    },
    "id": "UjraEUQ31D1E",
    "outputId": "3ad98447-594c-4fa2-b23e-c029b8310055"
   },
   "outputs": [
    {
     "name": "stdout",
     "output_type": "stream",
     "text": [
      "R square value: 75.33244760640731\n",
      "Custom accuracy: 60.515287909358996\n",
      "Prediction score: [108.7913039]\n"
     ]
    }
   ],
   "source": [
    "# Splitting the dataset into the Training set and Test set\n",
    "# from sklearn.model_selection import train_test_split\n",
    "# X_train, X_test, y_train, y_test = train_test_split(X, y, test_size = 0.25, random_state = 0)\n",
    "\n",
    "# # Feature Scaling\n",
    "# from sklearn.preprocessing import StandardScaler\n",
    "# sc = StandardScaler()\n",
    "# X_train = sc.fit_transform(X_train)\n",
    "# X_test = sc.transform(X_test)\n",
    "\n",
    "# Training the dataset\n",
    "from sklearn.linear_model import LinearRegression\n",
    "lin = LinearRegression()\n",
    "lin.fit(X_train,y_train)\n",
    "\n",
    "# Testing the dataset on trained model\n",
    "y_pred = lin.predict(X_test)\n",
    "score = lin.score(X_test,y_test)*100\n",
    "print(\"R square value:\" , score)\n",
    "print(\"Custom accuracy:\" , custom_accuracy(y_test,y_pred,10))\n",
    "\n",
    "# Testing with a custom input\n",
    "import numpy as np\n",
    "new_prediction = lin.predict(sc.transform(np.array([[100,5,19.3,50,2]])))\n",
    "print(\"Prediction score:\" , new_prediction)"
   ]
  },
  {
   "cell_type": "code",
   "execution_count": null,
   "metadata": {
    "id": "Mm2ZQQgLHFhJ"
   },
   "outputs": [],
   "source": [
    "# l=[]\n",
    "# for i in range(0,20):\n",
    "#   l.append(custom_accuracy(y_test,y_pred,i))\n",
    "# for i,ele in enumerate(l):\n",
    "#   print(i,ele)"
   ]
  },
  {
   "cell_type": "markdown",
   "metadata": {},
   "source": [
    "## Random Forest Regressor"
   ]
  },
  {
   "cell_type": "code",
   "execution_count": null,
   "metadata": {
    "colab": {
     "base_uri": "https://localhost:8080/"
    },
    "id": "zC7gCBbs8JOX",
    "outputId": "6d25fb06-ebc5-46c3-c69a-fe4273321264"
   },
   "outputs": [],
   "source": [
    "# Training the dataset\n",
    "from sklearn.ensemble import RandomForestRegressor\n",
    "reg = RandomForestRegressor(n_estimators=100,max_features=None)\n",
    "reg.fit(X_train,y_train)\n",
    "\n",
    "# Testing the dataset on trained model\n",
    "y_pred = reg.predict(X_test)\n",
    "score = reg.score(X_test,y_test)*100\n",
    "print(\"R square value:\" , score)\n",
    "print(\"Custom accuracy:\" , custom_accuracy(y_test,y_pred,20))\n",
    "\n",
    "# Testing with a custom input\n",
    "import numpy as np\n",
    "new_prediction = reg.predict(sc.transform(np.array([[100,0,13,50,50]])))\n",
    "print(\"Prediction score:\" , new_prediction)"
   ]
  },
  {
   "cell_type": "code",
   "execution_count": null,
   "metadata": {},
   "outputs": [],
   "source": [
    "l=[]\n",
    "for i in range(0,20):\n",
    "  l.append(custom_accuracy(y_test,y_pred,i))\n",
    "for i,ele in enumerate(l):\n",
    "  print(i,ele)"
   ]
  },
  {
   "cell_type": "code",
   "execution_count": null,
   "metadata": {},
   "outputs": [],
   "source": [
    "\n"
   ]
  },
  {
   "cell_type": "code",
   "execution_count": 10,
   "metadata": {
    "colab": {
     "base_uri": "https://localhost:8080/"
    },
    "id": "w67rwKaMmSCZ",
    "outputId": "ff029f60-0add-48c1-f300-e83a9e32f7b4"
   },
   "outputs": [
    {
     "name": "stdout",
     "output_type": "stream",
     "text": [
      "Prediction score: [105.02]\n"
     ]
    }
   ],
   "source": [
    "import numpy as np\n",
    "new_prediction = reg.predict(sc.transform(np.array([[100,9,19,3,1]])))\n",
    "print(\"Prediction score:\" , new_prediction)"
   ]
  },
  {
   "cell_type": "code",
   "execution_count": null,
   "metadata": {},
   "outputs": [],
   "source": [
    "#import gzip, pickle, pickletools"
   ]
  },
  {
   "cell_type": "code",
   "execution_count": null,
   "metadata": {},
   "outputs": [],
   "source": [
    "# # optimize pickle size\n",
    "\n",
    "# filepath = \"random_forest_optimised.pkl\"\n",
    "# with gzip.open(filepath, \"wb\") as f:\n",
    "#     pickled = pickle.dumps(clf)\n",
    "#     optimized_pickle = pickletools.optimize(pickled)\n",
    "#     f.write(optimized_pickle)"
   ]
  },
  {
   "cell_type": "code",
   "execution_count": null,
   "metadata": {},
   "outputs": [],
   "source": [
    "# #opening the pickle file\n",
    "# with gzip.open(filepath, 'rb') as f:\n",
    "#     p = pickle.Unpickler(f)\n",
    "#     clf = p.load()"
   ]
  },
  {
   "cell_type": "code",
   "execution_count": 18,
   "metadata": {},
   "outputs": [],
   "source": [
    "import pickle\n",
    "\n",
    "pickle.dump(reg, open('random_forest_regressor.pkl','wb'))"
   ]
  },
  {
   "cell_type": "code",
   "execution_count": null,
   "metadata": {
    "colab": {
     "base_uri": "https://localhost:8080/",
     "height": 348
    },
    "id": "mx5K769jO6tN",
    "outputId": "243eea1e-0114-4833-ff90-412ef44cb965"
   },
   "outputs": [
    {
     "data": {
      "text/html": [
       "<div>\n",
       "<style scoped>\n",
       "    .dataframe tbody tr th:only-of-type {\n",
       "        vertical-align: middle;\n",
       "    }\n",
       "\n",
       "    .dataframe tbody tr th {\n",
       "        vertical-align: top;\n",
       "    }\n",
       "\n",
       "    .dataframe thead th {\n",
       "        text-align: right;\n",
       "    }\n",
       "</style>\n",
       "<table border=\"1\" class=\"dataframe\">\n",
       "  <thead>\n",
       "    <tr style=\"text-align: right;\">\n",
       "      <th></th>\n",
       "      <th>Unnamed: 0</th>\n",
       "      <th>Unnamed: 0.1</th>\n",
       "      <th>striker</th>\n",
       "      <th>non_striker</th>\n",
       "      <th>Wicket</th>\n",
       "      <th>overs</th>\n",
       "      <th>run_sum</th>\n",
       "      <th>innings</th>\n",
       "      <th>runs_off_bat</th>\n",
       "      <th>player_dismissed</th>\n",
       "      <th>required_striker</th>\n",
       "      <th>required_non_striker</th>\n",
       "      <th>runs</th>\n",
       "    </tr>\n",
       "  </thead>\n",
       "  <tbody>\n",
       "    <tr>\n",
       "      <th>100181</th>\n",
       "      <td>100181</td>\n",
       "      <td>193495</td>\n",
       "      <td>AR Patel</td>\n",
       "      <td>SS Iyer</td>\n",
       "      <td>4</td>\n",
       "      <td>18.3</td>\n",
       "      <td>156.0</td>\n",
       "      <td>1</td>\n",
       "      <td>1</td>\n",
       "      <td>NaN</td>\n",
       "      <td>8</td>\n",
       "      <td>0</td>\n",
       "      <td>145</td>\n",
       "    </tr>\n",
       "    <tr>\n",
       "      <th>100182</th>\n",
       "      <td>100182</td>\n",
       "      <td>193496</td>\n",
       "      <td>SS Iyer</td>\n",
       "      <td>AR Patel</td>\n",
       "      <td>4</td>\n",
       "      <td>18.4</td>\n",
       "      <td>156.0</td>\n",
       "      <td>1</td>\n",
       "      <td>0</td>\n",
       "      <td>NaN</td>\n",
       "      <td>8</td>\n",
       "      <td>0</td>\n",
       "      <td>146</td>\n",
       "    </tr>\n",
       "    <tr>\n",
       "      <th>100183</th>\n",
       "      <td>100183</td>\n",
       "      <td>193497</td>\n",
       "      <td>AR Patel</td>\n",
       "      <td>SS Iyer</td>\n",
       "      <td>4</td>\n",
       "      <td>18.5</td>\n",
       "      <td>156.0</td>\n",
       "      <td>1</td>\n",
       "      <td>2</td>\n",
       "      <td>NaN</td>\n",
       "      <td>10</td>\n",
       "      <td>0</td>\n",
       "      <td>148</td>\n",
       "    </tr>\n",
       "    <tr>\n",
       "      <th>100184</th>\n",
       "      <td>100184</td>\n",
       "      <td>193498</td>\n",
       "      <td>AR Patel</td>\n",
       "      <td>SS Iyer</td>\n",
       "      <td>4</td>\n",
       "      <td>18.6</td>\n",
       "      <td>156.0</td>\n",
       "      <td>1</td>\n",
       "      <td>0</td>\n",
       "      <td>NaN</td>\n",
       "      <td>10</td>\n",
       "      <td>0</td>\n",
       "      <td>148</td>\n",
       "    </tr>\n",
       "    <tr>\n",
       "      <th>100185</th>\n",
       "      <td>100185</td>\n",
       "      <td>193499</td>\n",
       "      <td>SS Iyer</td>\n",
       "      <td>AR Patel</td>\n",
       "      <td>4</td>\n",
       "      <td>19.1</td>\n",
       "      <td>156.0</td>\n",
       "      <td>1</td>\n",
       "      <td>1</td>\n",
       "      <td>NaN</td>\n",
       "      <td>11</td>\n",
       "      <td>0</td>\n",
       "      <td>149</td>\n",
       "    </tr>\n",
       "    <tr>\n",
       "      <th>100186</th>\n",
       "      <td>100186</td>\n",
       "      <td>193500</td>\n",
       "      <td>AR Patel</td>\n",
       "      <td>SS Iyer</td>\n",
       "      <td>5</td>\n",
       "      <td>19.2</td>\n",
       "      <td>156.0</td>\n",
       "      <td>1</td>\n",
       "      <td>0</td>\n",
       "      <td>AR Patel</td>\n",
       "      <td>0</td>\n",
       "      <td>0</td>\n",
       "      <td>149</td>\n",
       "    </tr>\n",
       "    <tr>\n",
       "      <th>100187</th>\n",
       "      <td>100187</td>\n",
       "      <td>193501</td>\n",
       "      <td>SS Iyer</td>\n",
       "      <td>K Rabada</td>\n",
       "      <td>5</td>\n",
       "      <td>19.3</td>\n",
       "      <td>156.0</td>\n",
       "      <td>1</td>\n",
       "      <td>0</td>\n",
       "      <td>NaN</td>\n",
       "      <td>0</td>\n",
       "      <td>0</td>\n",
       "      <td>149</td>\n",
       "    </tr>\n",
       "    <tr>\n",
       "      <th>100188</th>\n",
       "      <td>100188</td>\n",
       "      <td>193502</td>\n",
       "      <td>SS Iyer</td>\n",
       "      <td>K Rabada</td>\n",
       "      <td>5</td>\n",
       "      <td>19.4</td>\n",
       "      <td>156.0</td>\n",
       "      <td>1</td>\n",
       "      <td>0</td>\n",
       "      <td>NaN</td>\n",
       "      <td>0</td>\n",
       "      <td>0</td>\n",
       "      <td>149</td>\n",
       "    </tr>\n",
       "    <tr>\n",
       "      <th>100189</th>\n",
       "      <td>100189</td>\n",
       "      <td>193503</td>\n",
       "      <td>SS Iyer</td>\n",
       "      <td>K Rabada</td>\n",
       "      <td>5</td>\n",
       "      <td>19.5</td>\n",
       "      <td>156.0</td>\n",
       "      <td>1</td>\n",
       "      <td>6</td>\n",
       "      <td>NaN</td>\n",
       "      <td>6</td>\n",
       "      <td>0</td>\n",
       "      <td>155</td>\n",
       "    </tr>\n",
       "    <tr>\n",
       "      <th>100190</th>\n",
       "      <td>100190</td>\n",
       "      <td>193504</td>\n",
       "      <td>SS Iyer</td>\n",
       "      <td>K Rabada</td>\n",
       "      <td>6</td>\n",
       "      <td>19.6</td>\n",
       "      <td>156.0</td>\n",
       "      <td>1</td>\n",
       "      <td>1</td>\n",
       "      <td>K Rabada</td>\n",
       "      <td>1</td>\n",
       "      <td>0</td>\n",
       "      <td>156</td>\n",
       "    </tr>\n",
       "  </tbody>\n",
       "</table>\n",
       "</div>"
      ],
      "text/plain": [
       "        Unnamed: 0  Unnamed: 0.1  ... required_non_striker runs\n",
       "100181      100181        193495  ...                    0  145\n",
       "100182      100182        193496  ...                    0  146\n",
       "100183      100183        193497  ...                    0  148\n",
       "100184      100184        193498  ...                    0  148\n",
       "100185      100185        193499  ...                    0  149\n",
       "100186      100186        193500  ...                    0  149\n",
       "100187      100187        193501  ...                    0  149\n",
       "100188      100188        193502  ...                    0  149\n",
       "100189      100189        193503  ...                    0  155\n",
       "100190      100190        193504  ...                    0  156\n",
       "\n",
       "[10 rows x 13 columns]"
      ]
     },
     "execution_count": 41,
     "metadata": {
      "tags": []
     },
     "output_type": "execute_result"
    }
   ],
   "source": [
    "dataset.tail(10)"
   ]
  },
  {
   "cell_type": "code",
   "execution_count": null,
   "metadata": {
    "colab": {
     "base_uri": "https://localhost:8080/"
    },
    "collapsed": true,
    "id": "hrqyTGzd8U_U",
    "outputId": "b85ad740-52df-4963-dadc-27094204b7a1"
   },
   "outputs": [
    {
     "name": "stdout",
     "output_type": "stream",
     "text": [
      "Results...\n",
      "DecisionTree : 9.961547714437772\n",
      "Custom accuracy: 49.10757356488181\n",
      "[157.]\n",
      "Linear Regression : 9.656075381415805\n",
      "Custom accuracy: 49.10757356488181\n",
      "[161.14098297]\n",
      "RandomForest : 6.90872621058927\n",
      "Custom accuracy: 49.10757356488181\n",
      "[165.28]\n",
      "KNeighbours : 6.4867454255915975\n",
      "Custom accuracy: 49.10757356488181\n",
      "[168.]\n",
      "AdaBoostClassifier : 12.509737796523995\n",
      "Custom accuracy: 49.10757356488181\n",
      "[162.9109136]\n",
      "GradientBoostingClassifier:  9.252298596484929\n",
      "Custom accuracy: 49.10757356488181\n",
      "[162.88930094]\n",
      "[08:31:59] WARNING: /workspace/src/objective/regression_obj.cu:152: reg:linear is now deprecated in favor of reg:squarederror.\n",
      "Xgboost:  9.265018120994084\n",
      "Custom accuracy: 49.10757356488181\n",
      "[163.56276]\n",
      "CatBoost:  8.114021434105535\n",
      "Custom accuracy: 49.10757356488181\n",
      "[166.33697438]\n",
      "Lasso:  9.96113152834177\n",
      "Custom accuracy: 49.10757356488181\n",
      "[160.29346897]\n",
      "Ridge:  9.656145953875901\n",
      "Custom accuracy: 49.10757356488181\n",
      "[161.14103671]\n",
      "BayesianRidge:  9.65610794174292\n",
      "Custom accuracy: 49.10757356488181\n",
      "[161.1410078]\n",
      "ElasticNet:  14.596770634425454\n",
      "Custom accuracy: 49.10757356488181\n",
      "[162.55344914]\n",
      "HuberRegressor:  9.722485337456542\n",
      "Custom accuracy: 49.10757356488181\n",
      "[160.75173088]\n"
     ]
    }
   ],
   "source": [
    "from sklearn.metrics import accuracy_score\n",
    "from sklearn.tree import DecisionTreeRegressor\n",
    "from sklearn.ensemble import RandomForestRegressor\n",
    "from sklearn.neighbors import KNeighborsRegressor\n",
    "from sklearn.linear_model import LinearRegression\n",
    "from sklearn.ensemble import AdaBoostRegressor\n",
    "from sklearn.ensemble import GradientBoostingRegressor\n",
    "from xgboost import XGBRegressor\n",
    "from catboost import CatBoostRegressor\n",
    "from sklearn.linear_model import Lasso,Ridge,BayesianRidge,ElasticNet,HuberRegressor,LinearRegression,LogisticRegression,SGDRegressor\n",
    "from sklearn.metrics import mean_squared_error\n",
    "\n",
    "models = [['DecisionTree :',DecisionTreeRegressor()],\n",
    "           ['Linear Regression :', LinearRegression()],\n",
    "           ['RandomForest :',RandomForestRegressor()],\n",
    "           ['KNeighbours :', KNeighborsRegressor(n_neighbors = 2)],\n",
    "           #['SVM :', SVR()],\n",
    "           ['AdaBoostClassifier :', AdaBoostRegressor()],\n",
    "           ['GradientBoostingClassifier: ', GradientBoostingRegressor()],\n",
    "           ['Xgboost: ', XGBRegressor()],\n",
    "           ['CatBoost: ', CatBoostRegressor(logging_level='Silent')],\n",
    "           ['Lasso: ', Lasso()],\n",
    "           ['Ridge: ', Ridge()],\n",
    "           ['BayesianRidge: ', BayesianRidge()],\n",
    "           ['ElasticNet: ', ElasticNet()],\n",
    "           ['HuberRegressor: ', HuberRegressor()]]\n",
    "\n",
    "print(\"Results...\")\n",
    "\n",
    "\n",
    "for name,model in models:\n",
    "    model = model\n",
    "    model.fit(X_train, y_train)\n",
    "    predictions = model.predict(X_test)\n",
    "    print(name, (np.sqrt(mean_squared_error(y_test, predictions))))\n",
    "    print(\"Custom accuracy:\" , custom_accuracy(y_test,y_pred,5))\n",
    "    print(model.predict(sc.transform(np.array([[128,4,16.6,71,4]]))))"
   ]
  }
 ],
 "metadata": {
  "colab": {
   "collapsed_sections": [],
   "name": "EDA_ML_Implementation.ipynb",
   "provenance": []
  },
  "kernelspec": {
   "display_name": "Python 3 (ipykernel)",
   "language": "python",
   "name": "python3"
  },
  "language_info": {
   "codemirror_mode": {
    "name": "ipython",
    "version": 3
   },
   "file_extension": ".py",
   "mimetype": "text/x-python",
   "name": "python",
   "nbconvert_exporter": "python",
   "pygments_lexer": "ipython3",
   "version": "3.10.4"
  }
 },
 "nbformat": 4,
 "nbformat_minor": 1
}
